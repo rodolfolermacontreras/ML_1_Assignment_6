{
 "cells": [
  {
   "cell_type": "markdown",
   "id": "9cc044c8",
   "metadata": {},
   "source": [
    "# Resampling Methods\n",
    "\n",
    "### Student: Rodolfo Lerma"
   ]
  },
  {
   "cell_type": "markdown",
   "id": "0ce99bb6",
   "metadata": {},
   "source": [
    "# Learning Objectives\n",
    "- Evaluate performance of the selected model.\n",
    "- Use k-fold cross validation to compare the performance of a pair of models.\n",
    "-  Use repeated k-fold cross validation to compare the performance of a pair of models."
   ]
  },
  {
   "cell_type": "code",
   "execution_count": 1,
   "id": "469de55b",
   "metadata": {},
   "outputs": [],
   "source": [
    "import pandas as pd\n",
    "import numpy as np\n",
    "from sklearn.model_selection import train_test_split"
   ]
  },
  {
   "cell_type": "code",
   "execution_count": 2,
   "id": "29c11e0a",
   "metadata": {},
   "outputs": [
    {
     "name": "stderr",
     "output_type": "stream",
     "text": [
      "C:\\Users\\rodol\\Anaconda3\\lib\\site-packages\\IPython\\core\\interactiveshell.py:3165: DtypeWarning: Columns (0,8,9,10,11,12,14,15,16,17,18,19,21,22,23,24,25,26,27,28,29,30,31,32,33,34,35,36,37,38,39,43,44,45,46,47,48,50,51,53,54,55,56,57,58,75,76,77,78,79,80,81,82,83,89,90,92,93,103,104,118,136,144,145,146,147,148,150,151,152,153,154,155,163,164,165,166,167,168,169,170,171,172,173,174,175,176,177,180,181,182,183,184,185,187,188,190,191,192,193,194,195,210,211,212,213,214,215,216,217,218,224,225,227,228,238,239,253,270,271,279,280,281,282,283,285,286,287,288,289,290,294,295,296,297,298,299,300,301,302,303,304,305,306,307,308,309,310,311,312,316,317,318,319,320,321,323,324,326,327,328,329,330,331,348,349,350,351,352,353,354,355,356,362,363,365,366,376,377,391,408,409,417,418,419,420,421,423,424,425,426,427,428,430,431,432,433,434,435,436,437,438,439,440,441,442,443,444,445,446,447,448,452,453,454,455,456,457,459,460,462,463,464,465,466,467,482,483,484,485,486,487,488,489,490,496,497,499,500,510,511,525,542,543,544,545,558,559,560,561,582,583,584,585,586,587,588,589) have mixed types.Specify dtype option on import or set low_memory=False.\n",
      "  has_raised = await self.run_ast_nodes(code_ast.body, cell_name,\n"
     ]
    }
   ],
   "source": [
    "data = pd.read_csv('Secom.csv')"
   ]
  },
  {
   "cell_type": "code",
   "execution_count": 3,
   "id": "7e99a82d",
   "metadata": {},
   "outputs": [
    {
     "data": {
      "text/html": [
       "<div>\n",
       "<style scoped>\n",
       "    .dataframe tbody tr th:only-of-type {\n",
       "        vertical-align: middle;\n",
       "    }\n",
       "\n",
       "    .dataframe tbody tr th {\n",
       "        vertical-align: top;\n",
       "    }\n",
       "\n",
       "    .dataframe thead th {\n",
       "        text-align: right;\n",
       "    }\n",
       "</style>\n",
       "<table border=\"1\" class=\"dataframe\">\n",
       "  <thead>\n",
       "    <tr style=\"text-align: right;\">\n",
       "      <th></th>\n",
       "      <th>Sensor 1</th>\n",
       "      <th>Sensor 2</th>\n",
       "      <th>Sensor 3</th>\n",
       "      <th>Sensor 4</th>\n",
       "      <th>Sensor 5</th>\n",
       "      <th>Sensor 6</th>\n",
       "      <th>Sensor 7</th>\n",
       "      <th>Sensor 8</th>\n",
       "      <th>Sensor 9</th>\n",
       "      <th>Sensor 10</th>\n",
       "      <th>...</th>\n",
       "      <th>Sensor 582</th>\n",
       "      <th>Sensor 583</th>\n",
       "      <th>Sensor 584</th>\n",
       "      <th>Sensor 585</th>\n",
       "      <th>Sensor 586</th>\n",
       "      <th>Sensor 587</th>\n",
       "      <th>Sensor 588</th>\n",
       "      <th>Sensor 589</th>\n",
       "      <th>Sensor 590</th>\n",
       "      <th>Target</th>\n",
       "    </tr>\n",
       "  </thead>\n",
       "  <tbody>\n",
       "    <tr>\n",
       "      <th>0</th>\n",
       "      <td>3030.93</td>\n",
       "      <td>2564</td>\n",
       "      <td>2187.7333</td>\n",
       "      <td>1411.1265</td>\n",
       "      <td>1.3602</td>\n",
       "      <td>100</td>\n",
       "      <td>97.6133</td>\n",
       "      <td>0.1242</td>\n",
       "      <td>1.5005</td>\n",
       "      <td>0.0162</td>\n",
       "      <td>...</td>\n",
       "      <td>!</td>\n",
       "      <td>0.5005</td>\n",
       "      <td>0.0118</td>\n",
       "      <td>0.0035</td>\n",
       "      <td>2.363</td>\n",
       "      <td>!</td>\n",
       "      <td>!</td>\n",
       "      <td>!</td>\n",
       "      <td>!</td>\n",
       "      <td>1</td>\n",
       "    </tr>\n",
       "    <tr>\n",
       "      <th>1</th>\n",
       "      <td>3095.78</td>\n",
       "      <td>2465.14</td>\n",
       "      <td>2230.4222</td>\n",
       "      <td>1463.6606</td>\n",
       "      <td>0.8294</td>\n",
       "      <td>100</td>\n",
       "      <td>102.3433</td>\n",
       "      <td>0.1247</td>\n",
       "      <td>1.4966</td>\n",
       "      <td>-0.0005</td>\n",
       "      <td>...</td>\n",
       "      <td>208.2045</td>\n",
       "      <td>0.5019</td>\n",
       "      <td>0.0223</td>\n",
       "      <td>0.0055</td>\n",
       "      <td>4.4447</td>\n",
       "      <td>0.0096</td>\n",
       "      <td>0.0201</td>\n",
       "      <td>0.006</td>\n",
       "      <td>208.2045</td>\n",
       "      <td>1</td>\n",
       "    </tr>\n",
       "    <tr>\n",
       "      <th>2</th>\n",
       "      <td>2932.61</td>\n",
       "      <td>2559.94</td>\n",
       "      <td>2186.4111</td>\n",
       "      <td>1698.0172</td>\n",
       "      <td>1.5102</td>\n",
       "      <td>100</td>\n",
       "      <td>95.4878</td>\n",
       "      <td>0.1241</td>\n",
       "      <td>1.4436</td>\n",
       "      <td>0.0041</td>\n",
       "      <td>...</td>\n",
       "      <td>82.8602</td>\n",
       "      <td>0.4958</td>\n",
       "      <td>0.0157</td>\n",
       "      <td>0.0039</td>\n",
       "      <td>3.1745</td>\n",
       "      <td>0.0584</td>\n",
       "      <td>0.0484</td>\n",
       "      <td>0.0148</td>\n",
       "      <td>82.8602</td>\n",
       "      <td>0</td>\n",
       "    </tr>\n",
       "    <tr>\n",
       "      <th>3</th>\n",
       "      <td>2988.72</td>\n",
       "      <td>2479.9</td>\n",
       "      <td>2199.0333</td>\n",
       "      <td>909.7926</td>\n",
       "      <td>1.3204</td>\n",
       "      <td>100</td>\n",
       "      <td>104.2367</td>\n",
       "      <td>0.1217</td>\n",
       "      <td>1.4882</td>\n",
       "      <td>-0.0124</td>\n",
       "      <td>...</td>\n",
       "      <td>73.8432</td>\n",
       "      <td>0.499</td>\n",
       "      <td>0.0103</td>\n",
       "      <td>0.0025</td>\n",
       "      <td>2.0544</td>\n",
       "      <td>0.0202</td>\n",
       "      <td>0.0149</td>\n",
       "      <td>0.0044</td>\n",
       "      <td>73.8432</td>\n",
       "      <td>1</td>\n",
       "    </tr>\n",
       "    <tr>\n",
       "      <th>4</th>\n",
       "      <td>3032.24</td>\n",
       "      <td>2502.87</td>\n",
       "      <td>2233.3667</td>\n",
       "      <td>1326.52</td>\n",
       "      <td>1.5334</td>\n",
       "      <td>100</td>\n",
       "      <td>100.3967</td>\n",
       "      <td>0.1235</td>\n",
       "      <td>1.5031</td>\n",
       "      <td>-0.0031</td>\n",
       "      <td>...</td>\n",
       "      <td>!</td>\n",
       "      <td>0.48</td>\n",
       "      <td>0.4766</td>\n",
       "      <td>0.1045</td>\n",
       "      <td>99.3032</td>\n",
       "      <td>0.0202</td>\n",
       "      <td>0.0149</td>\n",
       "      <td>0.0044</td>\n",
       "      <td>73.8432</td>\n",
       "      <td>1</td>\n",
       "    </tr>\n",
       "  </tbody>\n",
       "</table>\n",
       "<p>5 rows × 591 columns</p>\n",
       "</div>"
      ],
      "text/plain": [
       "  Sensor 1 Sensor 2   Sensor 3   Sensor 4 Sensor 5 Sensor 6  Sensor 7  \\\n",
       "0  3030.93     2564  2187.7333  1411.1265   1.3602      100   97.6133   \n",
       "1  3095.78  2465.14  2230.4222  1463.6606   0.8294      100  102.3433   \n",
       "2  2932.61  2559.94  2186.4111  1698.0172   1.5102      100   95.4878   \n",
       "3  2988.72   2479.9  2199.0333   909.7926   1.3204      100  104.2367   \n",
       "4  3032.24  2502.87  2233.3667    1326.52   1.5334      100  100.3967   \n",
       "\n",
       "  Sensor 8 Sensor 9 Sensor 10  ... Sensor 582 Sensor 583 Sensor 584  \\\n",
       "0   0.1242   1.5005    0.0162  ...          !     0.5005     0.0118   \n",
       "1   0.1247   1.4966   -0.0005  ...   208.2045     0.5019     0.0223   \n",
       "2   0.1241   1.4436    0.0041  ...    82.8602     0.4958     0.0157   \n",
       "3   0.1217   1.4882   -0.0124  ...    73.8432      0.499     0.0103   \n",
       "4   0.1235   1.5031   -0.0031  ...          !       0.48     0.4766   \n",
       "\n",
       "   Sensor 585 Sensor 586 Sensor 587 Sensor 588 Sensor 589 Sensor 590 Target  \n",
       "0      0.0035      2.363          !          !          !          !      1  \n",
       "1      0.0055     4.4447     0.0096     0.0201      0.006   208.2045      1  \n",
       "2      0.0039     3.1745     0.0584     0.0484     0.0148    82.8602      0  \n",
       "3      0.0025     2.0544     0.0202     0.0149     0.0044    73.8432      1  \n",
       "4      0.1045    99.3032     0.0202     0.0149     0.0044    73.8432      1  \n",
       "\n",
       "[5 rows x 591 columns]"
      ]
     },
     "execution_count": 3,
     "metadata": {},
     "output_type": "execute_result"
    }
   ],
   "source": [
    "data.head()"
   ]
  },
  {
   "cell_type": "code",
   "execution_count": 4,
   "id": "150d9b6c",
   "metadata": {},
   "outputs": [
    {
     "data": {
      "text/plain": [
       "(1567, 591)"
      ]
     },
     "execution_count": 4,
     "metadata": {},
     "output_type": "execute_result"
    }
   ],
   "source": [
    "data.shape"
   ]
  },
  {
   "cell_type": "markdown",
   "id": "bb8587c3",
   "metadata": {},
   "source": [
    "You can see the distribution of the dataset: 1567 rows and 591 columns (features)."
   ]
  },
  {
   "cell_type": "code",
   "execution_count": 5,
   "id": "9c2fde1b",
   "metadata": {},
   "outputs": [
    {
     "data": {
      "text/plain": [
       "array([1, 0], dtype=int64)"
      ]
     },
     "execution_count": 5,
     "metadata": {},
     "output_type": "execute_result"
    }
   ],
   "source": [
    "data['Target'].unique()"
   ]
  },
  {
   "cell_type": "markdown",
   "id": "7b24cc7b",
   "metadata": {},
   "source": [
    "The `Target` feature is a binary column."
   ]
  },
  {
   "cell_type": "markdown",
   "id": "25741f7f",
   "metadata": {},
   "source": [
    "### Question 1.1: Detect and replace missing values in the data with np.nan . Hint: missing data is noted as !"
   ]
  },
  {
   "cell_type": "code",
   "execution_count": 6,
   "id": "0a217055",
   "metadata": {},
   "outputs": [],
   "source": [
    "#data.replace('!', np.nan, inplace=True)\n",
    "data.replace(to_replace=r' *\\!', value=np.nan, inplace=True, regex=True)"
   ]
  },
  {
   "cell_type": "markdown",
   "id": "8eb1683c",
   "metadata": {},
   "source": [
    "### Question 1.2 Confirm that the change has worked"
   ]
  },
  {
   "cell_type": "code",
   "execution_count": 7,
   "id": "7288c812",
   "metadata": {},
   "outputs": [
    {
     "data": {
      "text/html": [
       "<div>\n",
       "<style scoped>\n",
       "    .dataframe tbody tr th:only-of-type {\n",
       "        vertical-align: middle;\n",
       "    }\n",
       "\n",
       "    .dataframe tbody tr th {\n",
       "        vertical-align: top;\n",
       "    }\n",
       "\n",
       "    .dataframe thead th {\n",
       "        text-align: right;\n",
       "    }\n",
       "</style>\n",
       "<table border=\"1\" class=\"dataframe\">\n",
       "  <thead>\n",
       "    <tr style=\"text-align: right;\">\n",
       "      <th></th>\n",
       "      <th>Sensor 1</th>\n",
       "      <th>Sensor 2</th>\n",
       "      <th>Sensor 3</th>\n",
       "      <th>Sensor 4</th>\n",
       "      <th>Sensor 5</th>\n",
       "      <th>Sensor 6</th>\n",
       "      <th>Sensor 7</th>\n",
       "      <th>Sensor 8</th>\n",
       "      <th>Sensor 9</th>\n",
       "      <th>Sensor 10</th>\n",
       "      <th>...</th>\n",
       "      <th>Sensor 582</th>\n",
       "      <th>Sensor 583</th>\n",
       "      <th>Sensor 584</th>\n",
       "      <th>Sensor 585</th>\n",
       "      <th>Sensor 586</th>\n",
       "      <th>Sensor 587</th>\n",
       "      <th>Sensor 588</th>\n",
       "      <th>Sensor 589</th>\n",
       "      <th>Sensor 590</th>\n",
       "      <th>Target</th>\n",
       "    </tr>\n",
       "  </thead>\n",
       "  <tbody>\n",
       "    <tr>\n",
       "      <th>0</th>\n",
       "      <td>3030.93</td>\n",
       "      <td>2564</td>\n",
       "      <td>2187.7333</td>\n",
       "      <td>1411.1265</td>\n",
       "      <td>1.3602</td>\n",
       "      <td>100</td>\n",
       "      <td>97.6133</td>\n",
       "      <td>0.1242</td>\n",
       "      <td>1.5005</td>\n",
       "      <td>0.0162</td>\n",
       "      <td>...</td>\n",
       "      <td>NaN</td>\n",
       "      <td>0.5005</td>\n",
       "      <td>0.0118</td>\n",
       "      <td>0.0035</td>\n",
       "      <td>2.363</td>\n",
       "      <td>NaN</td>\n",
       "      <td>NaN</td>\n",
       "      <td>NaN</td>\n",
       "      <td>NaN</td>\n",
       "      <td>1</td>\n",
       "    </tr>\n",
       "    <tr>\n",
       "      <th>1</th>\n",
       "      <td>3095.78</td>\n",
       "      <td>2465.14</td>\n",
       "      <td>2230.4222</td>\n",
       "      <td>1463.6606</td>\n",
       "      <td>0.8294</td>\n",
       "      <td>100</td>\n",
       "      <td>102.3433</td>\n",
       "      <td>0.1247</td>\n",
       "      <td>1.4966</td>\n",
       "      <td>-0.0005</td>\n",
       "      <td>...</td>\n",
       "      <td>208.2045</td>\n",
       "      <td>0.5019</td>\n",
       "      <td>0.0223</td>\n",
       "      <td>0.0055</td>\n",
       "      <td>4.4447</td>\n",
       "      <td>0.0096</td>\n",
       "      <td>0.0201</td>\n",
       "      <td>0.006</td>\n",
       "      <td>208.2045</td>\n",
       "      <td>1</td>\n",
       "    </tr>\n",
       "    <tr>\n",
       "      <th>2</th>\n",
       "      <td>2932.61</td>\n",
       "      <td>2559.94</td>\n",
       "      <td>2186.4111</td>\n",
       "      <td>1698.0172</td>\n",
       "      <td>1.5102</td>\n",
       "      <td>100</td>\n",
       "      <td>95.4878</td>\n",
       "      <td>0.1241</td>\n",
       "      <td>1.4436</td>\n",
       "      <td>0.0041</td>\n",
       "      <td>...</td>\n",
       "      <td>82.8602</td>\n",
       "      <td>0.4958</td>\n",
       "      <td>0.0157</td>\n",
       "      <td>0.0039</td>\n",
       "      <td>3.1745</td>\n",
       "      <td>0.0584</td>\n",
       "      <td>0.0484</td>\n",
       "      <td>0.0148</td>\n",
       "      <td>82.8602</td>\n",
       "      <td>0</td>\n",
       "    </tr>\n",
       "    <tr>\n",
       "      <th>3</th>\n",
       "      <td>2988.72</td>\n",
       "      <td>2479.9</td>\n",
       "      <td>2199.0333</td>\n",
       "      <td>909.7926</td>\n",
       "      <td>1.3204</td>\n",
       "      <td>100</td>\n",
       "      <td>104.2367</td>\n",
       "      <td>0.1217</td>\n",
       "      <td>1.4882</td>\n",
       "      <td>-0.0124</td>\n",
       "      <td>...</td>\n",
       "      <td>73.8432</td>\n",
       "      <td>0.499</td>\n",
       "      <td>0.0103</td>\n",
       "      <td>0.0025</td>\n",
       "      <td>2.0544</td>\n",
       "      <td>0.0202</td>\n",
       "      <td>0.0149</td>\n",
       "      <td>0.0044</td>\n",
       "      <td>73.8432</td>\n",
       "      <td>1</td>\n",
       "    </tr>\n",
       "    <tr>\n",
       "      <th>4</th>\n",
       "      <td>3032.24</td>\n",
       "      <td>2502.87</td>\n",
       "      <td>2233.3667</td>\n",
       "      <td>1326.52</td>\n",
       "      <td>1.5334</td>\n",
       "      <td>100</td>\n",
       "      <td>100.3967</td>\n",
       "      <td>0.1235</td>\n",
       "      <td>1.5031</td>\n",
       "      <td>-0.0031</td>\n",
       "      <td>...</td>\n",
       "      <td>NaN</td>\n",
       "      <td>0.48</td>\n",
       "      <td>0.4766</td>\n",
       "      <td>0.1045</td>\n",
       "      <td>99.3032</td>\n",
       "      <td>0.0202</td>\n",
       "      <td>0.0149</td>\n",
       "      <td>0.0044</td>\n",
       "      <td>73.8432</td>\n",
       "      <td>1</td>\n",
       "    </tr>\n",
       "  </tbody>\n",
       "</table>\n",
       "<p>5 rows × 591 columns</p>\n",
       "</div>"
      ],
      "text/plain": [
       "  Sensor 1 Sensor 2   Sensor 3   Sensor 4 Sensor 5 Sensor 6  Sensor 7  \\\n",
       "0  3030.93     2564  2187.7333  1411.1265   1.3602      100   97.6133   \n",
       "1  3095.78  2465.14  2230.4222  1463.6606   0.8294      100  102.3433   \n",
       "2  2932.61  2559.94  2186.4111  1698.0172   1.5102      100   95.4878   \n",
       "3  2988.72   2479.9  2199.0333   909.7926   1.3204      100  104.2367   \n",
       "4  3032.24  2502.87  2233.3667    1326.52   1.5334      100  100.3967   \n",
       "\n",
       "  Sensor 8 Sensor 9 Sensor 10  ... Sensor 582 Sensor 583 Sensor 584  \\\n",
       "0   0.1242   1.5005    0.0162  ...        NaN     0.5005     0.0118   \n",
       "1   0.1247   1.4966   -0.0005  ...   208.2045     0.5019     0.0223   \n",
       "2   0.1241   1.4436    0.0041  ...    82.8602     0.4958     0.0157   \n",
       "3   0.1217   1.4882   -0.0124  ...    73.8432      0.499     0.0103   \n",
       "4   0.1235   1.5031   -0.0031  ...        NaN       0.48     0.4766   \n",
       "\n",
       "   Sensor 585 Sensor 586 Sensor 587 Sensor 588 Sensor 589 Sensor 590 Target  \n",
       "0      0.0035      2.363        NaN        NaN        NaN        NaN      1  \n",
       "1      0.0055     4.4447     0.0096     0.0201      0.006   208.2045      1  \n",
       "2      0.0039     3.1745     0.0584     0.0484     0.0148    82.8602      0  \n",
       "3      0.0025     2.0544     0.0202     0.0149     0.0044    73.8432      1  \n",
       "4      0.1045    99.3032     0.0202     0.0149     0.0044    73.8432      1  \n",
       "\n",
       "[5 rows x 591 columns]"
      ]
     },
     "execution_count": 7,
     "metadata": {},
     "output_type": "execute_result"
    }
   ],
   "source": [
    "data.head()"
   ]
  },
  {
   "cell_type": "code",
   "execution_count": 8,
   "id": "ea682df5",
   "metadata": {},
   "outputs": [
    {
     "data": {
      "text/html": [
       "<div>\n",
       "<style scoped>\n",
       "    .dataframe tbody tr th:only-of-type {\n",
       "        vertical-align: middle;\n",
       "    }\n",
       "\n",
       "    .dataframe tbody tr th {\n",
       "        vertical-align: top;\n",
       "    }\n",
       "\n",
       "    .dataframe thead th {\n",
       "        text-align: right;\n",
       "    }\n",
       "</style>\n",
       "<table border=\"1\" class=\"dataframe\">\n",
       "  <thead>\n",
       "    <tr style=\"text-align: right;\">\n",
       "      <th></th>\n",
       "      <th>Sensor 1</th>\n",
       "      <th>Sensor 2</th>\n",
       "      <th>Sensor 3</th>\n",
       "      <th>Sensor 4</th>\n",
       "      <th>Sensor 5</th>\n",
       "      <th>Sensor 6</th>\n",
       "      <th>Sensor 7</th>\n",
       "      <th>Sensor 8</th>\n",
       "      <th>Sensor 9</th>\n",
       "      <th>Sensor 10</th>\n",
       "      <th>...</th>\n",
       "      <th>Sensor 582</th>\n",
       "      <th>Sensor 583</th>\n",
       "      <th>Sensor 584</th>\n",
       "      <th>Sensor 585</th>\n",
       "      <th>Sensor 586</th>\n",
       "      <th>Sensor 587</th>\n",
       "      <th>Sensor 588</th>\n",
       "      <th>Sensor 589</th>\n",
       "      <th>Sensor 590</th>\n",
       "      <th>Target</th>\n",
       "    </tr>\n",
       "  </thead>\n",
       "  <tbody>\n",
       "    <tr>\n",
       "      <th>1562</th>\n",
       "      <td>2899.41</td>\n",
       "      <td>2464.36</td>\n",
       "      <td>2179.7333</td>\n",
       "      <td>3085.3781</td>\n",
       "      <td>1.4843</td>\n",
       "      <td>100</td>\n",
       "      <td>82.2467</td>\n",
       "      <td>0.1248</td>\n",
       "      <td>1.3424</td>\n",
       "      <td>-0.0045</td>\n",
       "      <td>...</td>\n",
       "      <td>203.172</td>\n",
       "      <td>0.4988</td>\n",
       "      <td>0.0143</td>\n",
       "      <td>0.0039</td>\n",
       "      <td>2.8669</td>\n",
       "      <td>0.0068</td>\n",
       "      <td>0.0138</td>\n",
       "      <td>0.0047</td>\n",
       "      <td>203.172</td>\n",
       "      <td>1</td>\n",
       "    </tr>\n",
       "    <tr>\n",
       "      <th>1563</th>\n",
       "      <td>3052.31</td>\n",
       "      <td>2522.55</td>\n",
       "      <td>2198.5667</td>\n",
       "      <td>1124.6595</td>\n",
       "      <td>0.8763</td>\n",
       "      <td>100</td>\n",
       "      <td>98.4689</td>\n",
       "      <td>0.1205</td>\n",
       "      <td>1.4333</td>\n",
       "      <td>-0.0061</td>\n",
       "      <td>...</td>\n",
       "      <td>NaN</td>\n",
       "      <td>0.4975</td>\n",
       "      <td>0.0131</td>\n",
       "      <td>0.0036</td>\n",
       "      <td>2.6238</td>\n",
       "      <td>0.0068</td>\n",
       "      <td>0.0138</td>\n",
       "      <td>0.0047</td>\n",
       "      <td>203.172</td>\n",
       "      <td>1</td>\n",
       "    </tr>\n",
       "    <tr>\n",
       "      <th>1564</th>\n",
       "      <td>2978.81</td>\n",
       "      <td>2379.78</td>\n",
       "      <td>2206.3</td>\n",
       "      <td>1110.4967</td>\n",
       "      <td>0.8236</td>\n",
       "      <td>100</td>\n",
       "      <td>99.4122</td>\n",
       "      <td>0.1208</td>\n",
       "      <td>NaN</td>\n",
       "      <td>NaN</td>\n",
       "      <td>...</td>\n",
       "      <td>43.5231</td>\n",
       "      <td>0.4987</td>\n",
       "      <td>0.0153</td>\n",
       "      <td>0.0041</td>\n",
       "      <td>3.059</td>\n",
       "      <td>0.0197</td>\n",
       "      <td>0.0086</td>\n",
       "      <td>0.0025</td>\n",
       "      <td>43.5231</td>\n",
       "      <td>1</td>\n",
       "    </tr>\n",
       "    <tr>\n",
       "      <th>1565</th>\n",
       "      <td>2894.92</td>\n",
       "      <td>2532.01</td>\n",
       "      <td>2177.0333</td>\n",
       "      <td>1183.7287</td>\n",
       "      <td>1.5726</td>\n",
       "      <td>100</td>\n",
       "      <td>98.7978</td>\n",
       "      <td>0.1213</td>\n",
       "      <td>1.4622</td>\n",
       "      <td>-0.0072</td>\n",
       "      <td>...</td>\n",
       "      <td>93.4941</td>\n",
       "      <td>0.5004</td>\n",
       "      <td>0.0178</td>\n",
       "      <td>0.0038</td>\n",
       "      <td>3.5662</td>\n",
       "      <td>0.0262</td>\n",
       "      <td>0.0245</td>\n",
       "      <td>0.0075</td>\n",
       "      <td>93.4941</td>\n",
       "      <td>1</td>\n",
       "    </tr>\n",
       "    <tr>\n",
       "      <th>1566</th>\n",
       "      <td>2944.92</td>\n",
       "      <td>2450.76</td>\n",
       "      <td>2195.4444</td>\n",
       "      <td>2914.1792</td>\n",
       "      <td>1.5978</td>\n",
       "      <td>100</td>\n",
       "      <td>85.1011</td>\n",
       "      <td>0.1235</td>\n",
       "      <td>NaN</td>\n",
       "      <td>NaN</td>\n",
       "      <td>...</td>\n",
       "      <td>137.7844</td>\n",
       "      <td>0.4987</td>\n",
       "      <td>0.0181</td>\n",
       "      <td>0.004</td>\n",
       "      <td>3.6275</td>\n",
       "      <td>0.0117</td>\n",
       "      <td>0.0162</td>\n",
       "      <td>0.0045</td>\n",
       "      <td>137.7844</td>\n",
       "      <td>1</td>\n",
       "    </tr>\n",
       "  </tbody>\n",
       "</table>\n",
       "<p>5 rows × 591 columns</p>\n",
       "</div>"
      ],
      "text/plain": [
       "     Sensor 1 Sensor 2   Sensor 3   Sensor 4 Sensor 5 Sensor 6 Sensor 7  \\\n",
       "1562  2899.41  2464.36  2179.7333  3085.3781   1.4843      100  82.2467   \n",
       "1563  3052.31  2522.55  2198.5667  1124.6595   0.8763      100  98.4689   \n",
       "1564  2978.81  2379.78     2206.3  1110.4967   0.8236      100  99.4122   \n",
       "1565  2894.92  2532.01  2177.0333  1183.7287   1.5726      100  98.7978   \n",
       "1566  2944.92  2450.76  2195.4444  2914.1792   1.5978      100  85.1011   \n",
       "\n",
       "     Sensor 8 Sensor 9 Sensor 10  ... Sensor 582 Sensor 583 Sensor 584  \\\n",
       "1562   0.1248   1.3424   -0.0045  ...    203.172     0.4988     0.0143   \n",
       "1563   0.1205   1.4333   -0.0061  ...        NaN     0.4975     0.0131   \n",
       "1564   0.1208      NaN       NaN  ...    43.5231     0.4987     0.0153   \n",
       "1565   0.1213   1.4622   -0.0072  ...    93.4941     0.5004     0.0178   \n",
       "1566   0.1235      NaN       NaN  ...   137.7844     0.4987     0.0181   \n",
       "\n",
       "      Sensor 585 Sensor 586 Sensor 587 Sensor 588 Sensor 589 Sensor 590 Target  \n",
       "1562      0.0039     2.8669     0.0068     0.0138     0.0047    203.172      1  \n",
       "1563      0.0036     2.6238     0.0068     0.0138     0.0047    203.172      1  \n",
       "1564      0.0041      3.059     0.0197     0.0086     0.0025    43.5231      1  \n",
       "1565      0.0038     3.5662     0.0262     0.0245     0.0075    93.4941      1  \n",
       "1566       0.004     3.6275     0.0117     0.0162     0.0045   137.7844      1  \n",
       "\n",
       "[5 rows x 591 columns]"
      ]
     },
     "execution_count": 8,
     "metadata": {},
     "output_type": "execute_result"
    }
   ],
   "source": [
    "data.tail()"
   ]
  },
  {
   "cell_type": "markdown",
   "id": "b74438b1",
   "metadata": {},
   "source": [
    "Looking at the tables above we can confirm the change worked!"
   ]
  },
  {
   "cell_type": "code",
   "execution_count": 9,
   "id": "ae44849f",
   "metadata": {},
   "outputs": [],
   "source": [
    "#Transform all the columns to numeric values\n",
    "columns = data.columns.tolist()\n",
    "for i in columns:\n",
    "    data[i] = pd.to_numeric(data[i])"
   ]
  },
  {
   "cell_type": "markdown",
   "id": "a5fd30fa",
   "metadata": {},
   "source": [
    "### Stats Summary"
   ]
  },
  {
   "cell_type": "code",
   "execution_count": 10,
   "id": "9975a9cc",
   "metadata": {},
   "outputs": [
    {
     "data": {
      "text/html": [
       "<div>\n",
       "<style scoped>\n",
       "    .dataframe tbody tr th:only-of-type {\n",
       "        vertical-align: middle;\n",
       "    }\n",
       "\n",
       "    .dataframe tbody tr th {\n",
       "        vertical-align: top;\n",
       "    }\n",
       "\n",
       "    .dataframe thead th {\n",
       "        text-align: right;\n",
       "    }\n",
       "</style>\n",
       "<table border=\"1\" class=\"dataframe\">\n",
       "  <thead>\n",
       "    <tr style=\"text-align: right;\">\n",
       "      <th></th>\n",
       "      <th>Sensor 1</th>\n",
       "      <th>Sensor 2</th>\n",
       "      <th>Sensor 3</th>\n",
       "      <th>Sensor 4</th>\n",
       "      <th>Sensor 5</th>\n",
       "      <th>Sensor 6</th>\n",
       "      <th>Sensor 7</th>\n",
       "      <th>Sensor 8</th>\n",
       "      <th>Sensor 9</th>\n",
       "      <th>Sensor 10</th>\n",
       "      <th>...</th>\n",
       "      <th>Sensor 582</th>\n",
       "      <th>Sensor 583</th>\n",
       "      <th>Sensor 584</th>\n",
       "      <th>Sensor 585</th>\n",
       "      <th>Sensor 586</th>\n",
       "      <th>Sensor 587</th>\n",
       "      <th>Sensor 588</th>\n",
       "      <th>Sensor 589</th>\n",
       "      <th>Sensor 590</th>\n",
       "      <th>Target</th>\n",
       "    </tr>\n",
       "  </thead>\n",
       "  <tbody>\n",
       "    <tr>\n",
       "      <th>count</th>\n",
       "      <td>1561.000000</td>\n",
       "      <td>1560.000000</td>\n",
       "      <td>1553.000000</td>\n",
       "      <td>1553.000000</td>\n",
       "      <td>1553.000000</td>\n",
       "      <td>1553.0</td>\n",
       "      <td>1553.000000</td>\n",
       "      <td>1558.000000</td>\n",
       "      <td>1565.000000</td>\n",
       "      <td>1565.000000</td>\n",
       "      <td>...</td>\n",
       "      <td>618.000000</td>\n",
       "      <td>1566.000000</td>\n",
       "      <td>1566.000000</td>\n",
       "      <td>1566.000000</td>\n",
       "      <td>1566.000000</td>\n",
       "      <td>1566.000000</td>\n",
       "      <td>1566.000000</td>\n",
       "      <td>1566.000000</td>\n",
       "      <td>1566.000000</td>\n",
       "      <td>1567.000000</td>\n",
       "    </tr>\n",
       "    <tr>\n",
       "      <th>mean</th>\n",
       "      <td>3014.452896</td>\n",
       "      <td>2495.850231</td>\n",
       "      <td>2200.547318</td>\n",
       "      <td>1396.376627</td>\n",
       "      <td>4.197013</td>\n",
       "      <td>100.0</td>\n",
       "      <td>101.112908</td>\n",
       "      <td>0.121822</td>\n",
       "      <td>1.462862</td>\n",
       "      <td>-0.000841</td>\n",
       "      <td>...</td>\n",
       "      <td>97.934373</td>\n",
       "      <td>0.500096</td>\n",
       "      <td>0.015318</td>\n",
       "      <td>0.003847</td>\n",
       "      <td>3.067826</td>\n",
       "      <td>0.021458</td>\n",
       "      <td>0.016475</td>\n",
       "      <td>0.005283</td>\n",
       "      <td>99.670066</td>\n",
       "      <td>0.933631</td>\n",
       "    </tr>\n",
       "    <tr>\n",
       "      <th>std</th>\n",
       "      <td>73.621787</td>\n",
       "      <td>80.407705</td>\n",
       "      <td>29.513152</td>\n",
       "      <td>441.691640</td>\n",
       "      <td>56.355540</td>\n",
       "      <td>0.0</td>\n",
       "      <td>6.237214</td>\n",
       "      <td>0.008961</td>\n",
       "      <td>0.073897</td>\n",
       "      <td>0.015116</td>\n",
       "      <td>...</td>\n",
       "      <td>87.520966</td>\n",
       "      <td>0.003404</td>\n",
       "      <td>0.017180</td>\n",
       "      <td>0.003720</td>\n",
       "      <td>3.578033</td>\n",
       "      <td>0.012358</td>\n",
       "      <td>0.008808</td>\n",
       "      <td>0.002867</td>\n",
       "      <td>93.891919</td>\n",
       "      <td>0.249005</td>\n",
       "    </tr>\n",
       "    <tr>\n",
       "      <th>min</th>\n",
       "      <td>2743.240000</td>\n",
       "      <td>2158.750000</td>\n",
       "      <td>2060.660000</td>\n",
       "      <td>0.000000</td>\n",
       "      <td>0.681500</td>\n",
       "      <td>100.0</td>\n",
       "      <td>82.131100</td>\n",
       "      <td>0.000000</td>\n",
       "      <td>1.191000</td>\n",
       "      <td>-0.053400</td>\n",
       "      <td>...</td>\n",
       "      <td>0.000000</td>\n",
       "      <td>0.477800</td>\n",
       "      <td>0.006000</td>\n",
       "      <td>0.001700</td>\n",
       "      <td>1.197500</td>\n",
       "      <td>-0.016900</td>\n",
       "      <td>0.003200</td>\n",
       "      <td>0.001000</td>\n",
       "      <td>0.000000</td>\n",
       "      <td>0.000000</td>\n",
       "    </tr>\n",
       "    <tr>\n",
       "      <th>25%</th>\n",
       "      <td>2966.260000</td>\n",
       "      <td>2452.247500</td>\n",
       "      <td>2181.044400</td>\n",
       "      <td>1081.875800</td>\n",
       "      <td>1.017700</td>\n",
       "      <td>100.0</td>\n",
       "      <td>97.920000</td>\n",
       "      <td>0.121100</td>\n",
       "      <td>1.411200</td>\n",
       "      <td>-0.010800</td>\n",
       "      <td>...</td>\n",
       "      <td>46.184900</td>\n",
       "      <td>0.497900</td>\n",
       "      <td>0.011600</td>\n",
       "      <td>0.003100</td>\n",
       "      <td>2.306500</td>\n",
       "      <td>0.013425</td>\n",
       "      <td>0.010600</td>\n",
       "      <td>0.003300</td>\n",
       "      <td>44.368600</td>\n",
       "      <td>1.000000</td>\n",
       "    </tr>\n",
       "    <tr>\n",
       "      <th>50%</th>\n",
       "      <td>3011.490000</td>\n",
       "      <td>2499.405000</td>\n",
       "      <td>2201.066700</td>\n",
       "      <td>1285.214400</td>\n",
       "      <td>1.316800</td>\n",
       "      <td>100.0</td>\n",
       "      <td>101.512200</td>\n",
       "      <td>0.122400</td>\n",
       "      <td>1.461600</td>\n",
       "      <td>-0.001300</td>\n",
       "      <td>...</td>\n",
       "      <td>72.288900</td>\n",
       "      <td>0.500200</td>\n",
       "      <td>0.013800</td>\n",
       "      <td>0.003600</td>\n",
       "      <td>2.757650</td>\n",
       "      <td>0.020500</td>\n",
       "      <td>0.014800</td>\n",
       "      <td>0.004600</td>\n",
       "      <td>71.900500</td>\n",
       "      <td>1.000000</td>\n",
       "    </tr>\n",
       "    <tr>\n",
       "      <th>75%</th>\n",
       "      <td>3056.650000</td>\n",
       "      <td>2538.822500</td>\n",
       "      <td>2218.055500</td>\n",
       "      <td>1591.223500</td>\n",
       "      <td>1.525700</td>\n",
       "      <td>100.0</td>\n",
       "      <td>104.586700</td>\n",
       "      <td>0.123800</td>\n",
       "      <td>1.516900</td>\n",
       "      <td>0.008400</td>\n",
       "      <td>...</td>\n",
       "      <td>116.539150</td>\n",
       "      <td>0.502375</td>\n",
       "      <td>0.016500</td>\n",
       "      <td>0.004100</td>\n",
       "      <td>3.295175</td>\n",
       "      <td>0.027600</td>\n",
       "      <td>0.020300</td>\n",
       "      <td>0.006400</td>\n",
       "      <td>114.749700</td>\n",
       "      <td>1.000000</td>\n",
       "    </tr>\n",
       "    <tr>\n",
       "      <th>max</th>\n",
       "      <td>3356.350000</td>\n",
       "      <td>2846.440000</td>\n",
       "      <td>2315.266700</td>\n",
       "      <td>3715.041700</td>\n",
       "      <td>1114.536600</td>\n",
       "      <td>100.0</td>\n",
       "      <td>129.252200</td>\n",
       "      <td>0.128600</td>\n",
       "      <td>1.656400</td>\n",
       "      <td>0.074900</td>\n",
       "      <td>...</td>\n",
       "      <td>737.304800</td>\n",
       "      <td>0.509800</td>\n",
       "      <td>0.476600</td>\n",
       "      <td>0.104500</td>\n",
       "      <td>99.303200</td>\n",
       "      <td>0.102800</td>\n",
       "      <td>0.079900</td>\n",
       "      <td>0.028600</td>\n",
       "      <td>737.304800</td>\n",
       "      <td>1.000000</td>\n",
       "    </tr>\n",
       "  </tbody>\n",
       "</table>\n",
       "<p>8 rows × 591 columns</p>\n",
       "</div>"
      ],
      "text/plain": [
       "          Sensor 1     Sensor 2     Sensor 3     Sensor 4     Sensor 5  \\\n",
       "count  1561.000000  1560.000000  1553.000000  1553.000000  1553.000000   \n",
       "mean   3014.452896  2495.850231  2200.547318  1396.376627     4.197013   \n",
       "std      73.621787    80.407705    29.513152   441.691640    56.355540   \n",
       "min    2743.240000  2158.750000  2060.660000     0.000000     0.681500   \n",
       "25%    2966.260000  2452.247500  2181.044400  1081.875800     1.017700   \n",
       "50%    3011.490000  2499.405000  2201.066700  1285.214400     1.316800   \n",
       "75%    3056.650000  2538.822500  2218.055500  1591.223500     1.525700   \n",
       "max    3356.350000  2846.440000  2315.266700  3715.041700  1114.536600   \n",
       "\n",
       "       Sensor 6     Sensor 7     Sensor 8     Sensor 9    Sensor 10  ...  \\\n",
       "count    1553.0  1553.000000  1558.000000  1565.000000  1565.000000  ...   \n",
       "mean      100.0   101.112908     0.121822     1.462862    -0.000841  ...   \n",
       "std         0.0     6.237214     0.008961     0.073897     0.015116  ...   \n",
       "min       100.0    82.131100     0.000000     1.191000    -0.053400  ...   \n",
       "25%       100.0    97.920000     0.121100     1.411200    -0.010800  ...   \n",
       "50%       100.0   101.512200     0.122400     1.461600    -0.001300  ...   \n",
       "75%       100.0   104.586700     0.123800     1.516900     0.008400  ...   \n",
       "max       100.0   129.252200     0.128600     1.656400     0.074900  ...   \n",
       "\n",
       "       Sensor 582   Sensor 583   Sensor 584   Sensor 585   Sensor 586  \\\n",
       "count  618.000000  1566.000000  1566.000000  1566.000000  1566.000000   \n",
       "mean    97.934373     0.500096     0.015318     0.003847     3.067826   \n",
       "std     87.520966     0.003404     0.017180     0.003720     3.578033   \n",
       "min      0.000000     0.477800     0.006000     0.001700     1.197500   \n",
       "25%     46.184900     0.497900     0.011600     0.003100     2.306500   \n",
       "50%     72.288900     0.500200     0.013800     0.003600     2.757650   \n",
       "75%    116.539150     0.502375     0.016500     0.004100     3.295175   \n",
       "max    737.304800     0.509800     0.476600     0.104500    99.303200   \n",
       "\n",
       "        Sensor 587   Sensor 588   Sensor 589   Sensor 590       Target  \n",
       "count  1566.000000  1566.000000  1566.000000  1566.000000  1567.000000  \n",
       "mean      0.021458     0.016475     0.005283    99.670066     0.933631  \n",
       "std       0.012358     0.008808     0.002867    93.891919     0.249005  \n",
       "min      -0.016900     0.003200     0.001000     0.000000     0.000000  \n",
       "25%       0.013425     0.010600     0.003300    44.368600     1.000000  \n",
       "50%       0.020500     0.014800     0.004600    71.900500     1.000000  \n",
       "75%       0.027600     0.020300     0.006400   114.749700     1.000000  \n",
       "max       0.102800     0.079900     0.028600   737.304800     1.000000  \n",
       "\n",
       "[8 rows x 591 columns]"
      ]
     },
     "execution_count": 10,
     "metadata": {},
     "output_type": "execute_result"
    }
   ],
   "source": [
    "df = data.describe()\n",
    "df"
   ]
  },
  {
   "cell_type": "markdown",
   "id": "102769e5",
   "metadata": {},
   "source": [
    "Before we transform the data adding extra zeros, it is possible to see that we have some sensors giving repeated data (Ex. `Sensor_6`). These columns are going to be removed."
   ]
  },
  {
   "cell_type": "markdown",
   "id": "96803303",
   "metadata": {},
   "source": [
    "### Repeated Values (Columns with the same value)"
   ]
  },
  {
   "cell_type": "code",
   "execution_count": 11,
   "id": "9e17bc93",
   "metadata": {},
   "outputs": [],
   "source": [
    "not_repeated = []\n",
    "repeated = []\n",
    "updated_columns = data.columns.values.tolist()\n",
    "y = data.shape\n",
    "for i in updated_columns:\n",
    "    x = data[i].std()\n",
    "    if x == 0:\n",
    "        repeated.append(i)\n",
    "    else:\n",
    "        not_repeated.append(i)"
   ]
  },
  {
   "cell_type": "code",
   "execution_count": 12,
   "id": "5150ca8e",
   "metadata": {},
   "outputs": [
    {
     "data": {
      "text/html": [
       "<div>\n",
       "<style scoped>\n",
       "    .dataframe tbody tr th:only-of-type {\n",
       "        vertical-align: middle;\n",
       "    }\n",
       "\n",
       "    .dataframe tbody tr th {\n",
       "        vertical-align: top;\n",
       "    }\n",
       "\n",
       "    .dataframe thead th {\n",
       "        text-align: right;\n",
       "    }\n",
       "</style>\n",
       "<table border=\"1\" class=\"dataframe\">\n",
       "  <thead>\n",
       "    <tr style=\"text-align: right;\">\n",
       "      <th></th>\n",
       "      <th>Sensor 6</th>\n",
       "      <th>Sensor 14</th>\n",
       "      <th>Sensor 43</th>\n",
       "      <th>Sensor 50</th>\n",
       "      <th>Sensor 53</th>\n",
       "      <th>Sensor 70</th>\n",
       "      <th>Sensor 98</th>\n",
       "      <th>Sensor 142</th>\n",
       "      <th>Sensor 150</th>\n",
       "      <th>Sensor 179</th>\n",
       "      <th>...</th>\n",
       "      <th>Sensor 530</th>\n",
       "      <th>Sensor 531</th>\n",
       "      <th>Sensor 532</th>\n",
       "      <th>Sensor 533</th>\n",
       "      <th>Sensor 534</th>\n",
       "      <th>Sensor 535</th>\n",
       "      <th>Sensor 536</th>\n",
       "      <th>Sensor 537</th>\n",
       "      <th>Sensor 538</th>\n",
       "      <th>Sensor 539</th>\n",
       "    </tr>\n",
       "  </thead>\n",
       "  <tbody>\n",
       "    <tr>\n",
       "      <th>count</th>\n",
       "      <td>1553.0</td>\n",
       "      <td>1564.0</td>\n",
       "      <td>1566.0</td>\n",
       "      <td>1566.0</td>\n",
       "      <td>1566.0</td>\n",
       "      <td>1561.0</td>\n",
       "      <td>1561.0</td>\n",
       "      <td>1553.0</td>\n",
       "      <td>1564.0</td>\n",
       "      <td>1543.0</td>\n",
       "      <td>...</td>\n",
       "      <td>1558.0</td>\n",
       "      <td>1558.0</td>\n",
       "      <td>1558.0</td>\n",
       "      <td>1558.0</td>\n",
       "      <td>1558.0</td>\n",
       "      <td>1558.0</td>\n",
       "      <td>1558.0</td>\n",
       "      <td>1558.0</td>\n",
       "      <td>1558.0</td>\n",
       "      <td>1558.0</td>\n",
       "    </tr>\n",
       "    <tr>\n",
       "      <th>mean</th>\n",
       "      <td>100.0</td>\n",
       "      <td>0.0</td>\n",
       "      <td>70.0</td>\n",
       "      <td>1.0</td>\n",
       "      <td>0.0</td>\n",
       "      <td>1.0</td>\n",
       "      <td>0.0</td>\n",
       "      <td>0.0</td>\n",
       "      <td>0.0</td>\n",
       "      <td>0.0</td>\n",
       "      <td>...</td>\n",
       "      <td>0.0</td>\n",
       "      <td>0.0</td>\n",
       "      <td>0.0</td>\n",
       "      <td>0.0</td>\n",
       "      <td>0.0</td>\n",
       "      <td>0.0</td>\n",
       "      <td>0.0</td>\n",
       "      <td>0.0</td>\n",
       "      <td>0.0</td>\n",
       "      <td>0.0</td>\n",
       "    </tr>\n",
       "    <tr>\n",
       "      <th>std</th>\n",
       "      <td>0.0</td>\n",
       "      <td>0.0</td>\n",
       "      <td>0.0</td>\n",
       "      <td>0.0</td>\n",
       "      <td>0.0</td>\n",
       "      <td>0.0</td>\n",
       "      <td>0.0</td>\n",
       "      <td>0.0</td>\n",
       "      <td>0.0</td>\n",
       "      <td>0.0</td>\n",
       "      <td>...</td>\n",
       "      <td>0.0</td>\n",
       "      <td>0.0</td>\n",
       "      <td>0.0</td>\n",
       "      <td>0.0</td>\n",
       "      <td>0.0</td>\n",
       "      <td>0.0</td>\n",
       "      <td>0.0</td>\n",
       "      <td>0.0</td>\n",
       "      <td>0.0</td>\n",
       "      <td>0.0</td>\n",
       "    </tr>\n",
       "    <tr>\n",
       "      <th>min</th>\n",
       "      <td>100.0</td>\n",
       "      <td>0.0</td>\n",
       "      <td>70.0</td>\n",
       "      <td>1.0</td>\n",
       "      <td>0.0</td>\n",
       "      <td>1.0</td>\n",
       "      <td>0.0</td>\n",
       "      <td>0.0</td>\n",
       "      <td>0.0</td>\n",
       "      <td>0.0</td>\n",
       "      <td>...</td>\n",
       "      <td>0.0</td>\n",
       "      <td>0.0</td>\n",
       "      <td>0.0</td>\n",
       "      <td>0.0</td>\n",
       "      <td>0.0</td>\n",
       "      <td>0.0</td>\n",
       "      <td>0.0</td>\n",
       "      <td>0.0</td>\n",
       "      <td>0.0</td>\n",
       "      <td>0.0</td>\n",
       "    </tr>\n",
       "    <tr>\n",
       "      <th>25%</th>\n",
       "      <td>100.0</td>\n",
       "      <td>0.0</td>\n",
       "      <td>70.0</td>\n",
       "      <td>1.0</td>\n",
       "      <td>0.0</td>\n",
       "      <td>1.0</td>\n",
       "      <td>0.0</td>\n",
       "      <td>0.0</td>\n",
       "      <td>0.0</td>\n",
       "      <td>0.0</td>\n",
       "      <td>...</td>\n",
       "      <td>0.0</td>\n",
       "      <td>0.0</td>\n",
       "      <td>0.0</td>\n",
       "      <td>0.0</td>\n",
       "      <td>0.0</td>\n",
       "      <td>0.0</td>\n",
       "      <td>0.0</td>\n",
       "      <td>0.0</td>\n",
       "      <td>0.0</td>\n",
       "      <td>0.0</td>\n",
       "    </tr>\n",
       "    <tr>\n",
       "      <th>50%</th>\n",
       "      <td>100.0</td>\n",
       "      <td>0.0</td>\n",
       "      <td>70.0</td>\n",
       "      <td>1.0</td>\n",
       "      <td>0.0</td>\n",
       "      <td>1.0</td>\n",
       "      <td>0.0</td>\n",
       "      <td>0.0</td>\n",
       "      <td>0.0</td>\n",
       "      <td>0.0</td>\n",
       "      <td>...</td>\n",
       "      <td>0.0</td>\n",
       "      <td>0.0</td>\n",
       "      <td>0.0</td>\n",
       "      <td>0.0</td>\n",
       "      <td>0.0</td>\n",
       "      <td>0.0</td>\n",
       "      <td>0.0</td>\n",
       "      <td>0.0</td>\n",
       "      <td>0.0</td>\n",
       "      <td>0.0</td>\n",
       "    </tr>\n",
       "    <tr>\n",
       "      <th>75%</th>\n",
       "      <td>100.0</td>\n",
       "      <td>0.0</td>\n",
       "      <td>70.0</td>\n",
       "      <td>1.0</td>\n",
       "      <td>0.0</td>\n",
       "      <td>1.0</td>\n",
       "      <td>0.0</td>\n",
       "      <td>0.0</td>\n",
       "      <td>0.0</td>\n",
       "      <td>0.0</td>\n",
       "      <td>...</td>\n",
       "      <td>0.0</td>\n",
       "      <td>0.0</td>\n",
       "      <td>0.0</td>\n",
       "      <td>0.0</td>\n",
       "      <td>0.0</td>\n",
       "      <td>0.0</td>\n",
       "      <td>0.0</td>\n",
       "      <td>0.0</td>\n",
       "      <td>0.0</td>\n",
       "      <td>0.0</td>\n",
       "    </tr>\n",
       "    <tr>\n",
       "      <th>max</th>\n",
       "      <td>100.0</td>\n",
       "      <td>0.0</td>\n",
       "      <td>70.0</td>\n",
       "      <td>1.0</td>\n",
       "      <td>0.0</td>\n",
       "      <td>1.0</td>\n",
       "      <td>0.0</td>\n",
       "      <td>0.0</td>\n",
       "      <td>0.0</td>\n",
       "      <td>0.0</td>\n",
       "      <td>...</td>\n",
       "      <td>0.0</td>\n",
       "      <td>0.0</td>\n",
       "      <td>0.0</td>\n",
       "      <td>0.0</td>\n",
       "      <td>0.0</td>\n",
       "      <td>0.0</td>\n",
       "      <td>0.0</td>\n",
       "      <td>0.0</td>\n",
       "      <td>0.0</td>\n",
       "      <td>0.0</td>\n",
       "    </tr>\n",
       "  </tbody>\n",
       "</table>\n",
       "<p>8 rows × 117 columns</p>\n",
       "</div>"
      ],
      "text/plain": [
       "       Sensor 6  Sensor 14  Sensor 43  Sensor 50  Sensor 53  Sensor 70  \\\n",
       "count    1553.0     1564.0     1566.0     1566.0     1566.0     1561.0   \n",
       "mean      100.0        0.0       70.0        1.0        0.0        1.0   \n",
       "std         0.0        0.0        0.0        0.0        0.0        0.0   \n",
       "min       100.0        0.0       70.0        1.0        0.0        1.0   \n",
       "25%       100.0        0.0       70.0        1.0        0.0        1.0   \n",
       "50%       100.0        0.0       70.0        1.0        0.0        1.0   \n",
       "75%       100.0        0.0       70.0        1.0        0.0        1.0   \n",
       "max       100.0        0.0       70.0        1.0        0.0        1.0   \n",
       "\n",
       "       Sensor 98  Sensor 142  Sensor 150  Sensor 179  ...  Sensor 530  \\\n",
       "count     1561.0      1553.0      1564.0      1543.0  ...      1558.0   \n",
       "mean         0.0         0.0         0.0         0.0  ...         0.0   \n",
       "std          0.0         0.0         0.0         0.0  ...         0.0   \n",
       "min          0.0         0.0         0.0         0.0  ...         0.0   \n",
       "25%          0.0         0.0         0.0         0.0  ...         0.0   \n",
       "50%          0.0         0.0         0.0         0.0  ...         0.0   \n",
       "75%          0.0         0.0         0.0         0.0  ...         0.0   \n",
       "max          0.0         0.0         0.0         0.0  ...         0.0   \n",
       "\n",
       "       Sensor 531  Sensor 532  Sensor 533  Sensor 534  Sensor 535  Sensor 536  \\\n",
       "count      1558.0      1558.0      1558.0      1558.0      1558.0      1558.0   \n",
       "mean          0.0         0.0         0.0         0.0         0.0         0.0   \n",
       "std           0.0         0.0         0.0         0.0         0.0         0.0   \n",
       "min           0.0         0.0         0.0         0.0         0.0         0.0   \n",
       "25%           0.0         0.0         0.0         0.0         0.0         0.0   \n",
       "50%           0.0         0.0         0.0         0.0         0.0         0.0   \n",
       "75%           0.0         0.0         0.0         0.0         0.0         0.0   \n",
       "max           0.0         0.0         0.0         0.0         0.0         0.0   \n",
       "\n",
       "       Sensor 537  Sensor 538  Sensor 539  \n",
       "count      1558.0      1558.0      1558.0  \n",
       "mean          0.0         0.0         0.0  \n",
       "std           0.0         0.0         0.0  \n",
       "min           0.0         0.0         0.0  \n",
       "25%           0.0         0.0         0.0  \n",
       "50%           0.0         0.0         0.0  \n",
       "75%           0.0         0.0         0.0  \n",
       "max           0.0         0.0         0.0  \n",
       "\n",
       "[8 rows x 117 columns]"
      ]
     },
     "execution_count": 12,
     "metadata": {},
     "output_type": "execute_result"
    }
   ],
   "source": [
    "data[repeated].describe()"
   ]
  },
  {
   "cell_type": "markdown",
   "id": "e5f61839",
   "metadata": {},
   "source": [
    "We can clearly see that 117 sensors are just repeating the same values for all the data points."
   ]
  },
  {
   "cell_type": "code",
   "execution_count": 13,
   "id": "6310574d",
   "metadata": {},
   "outputs": [
    {
     "data": {
      "text/plain": [
       "(1567, 474)"
      ]
     },
     "execution_count": 13,
     "metadata": {},
     "output_type": "execute_result"
    }
   ],
   "source": [
    "data = data.drop(repeated, axis = 1)\n",
    "data.shape"
   ]
  },
  {
   "cell_type": "markdown",
   "id": "c9ddc833",
   "metadata": {},
   "source": [
    "It is possible to see that **117 sensors** had repeated data (same value for all the measurements/rows)"
   ]
  },
  {
   "cell_type": "markdown",
   "id": "c6a02864",
   "metadata": {},
   "source": [
    "### Missing Values (Columns with the missing more than 50% of the data)"
   ]
  },
  {
   "cell_type": "code",
   "execution_count": 14,
   "id": "82d5b9f2",
   "metadata": {},
   "outputs": [],
   "source": [
    "missing_values = []\n",
    "my_list = data.columns.values.tolist()\n",
    "y = data.shape\n",
    "for i in my_list:\n",
    "    x = data[i].isnull().sum()\n",
    "    missing_values.append(x)\n",
    "    \n",
    "columns_missing = dict(zip(my_list, missing_values))\n",
    "a = sorted(columns_missing.items(), key=lambda x: x[1], reverse = True)  "
   ]
  },
  {
   "cell_type": "code",
   "execution_count": 15,
   "id": "0f9a9f9b",
   "metadata": {},
   "outputs": [],
   "source": [
    "missing_columns_names = []\n",
    "for key, value in columns_missing.items():\n",
    "    if value > (data.shape[0])/2 : #50% of the data\n",
    "        x = key\n",
    "        missing_columns_names.append(x)"
   ]
  },
  {
   "cell_type": "code",
   "execution_count": 16,
   "id": "ce21a594",
   "metadata": {},
   "outputs": [
    {
     "name": "stdout",
     "output_type": "stream",
     "text": [
      "['Sensor 73', 'Sensor 74', 'Sensor 86', 'Sensor 110', 'Sensor 111', 'Sensor 112', 'Sensor 158', 'Sensor 159', 'Sensor 221', 'Sensor 245', 'Sensor 246', 'Sensor 247', 'Sensor 293', 'Sensor 294', 'Sensor 346', 'Sensor 347', 'Sensor 359', 'Sensor 383', 'Sensor 384', 'Sensor 385', 'Sensor 493', 'Sensor 517', 'Sensor 518', 'Sensor 519', 'Sensor 579', 'Sensor 580', 'Sensor 581', 'Sensor 582']\n"
     ]
    }
   ],
   "source": [
    "print(missing_columns_names)"
   ]
  },
  {
   "cell_type": "code",
   "execution_count": 17,
   "id": "50024344",
   "metadata": {},
   "outputs": [
    {
     "data": {
      "text/plain": [
       "(1567, 446)"
      ]
     },
     "execution_count": 17,
     "metadata": {},
     "output_type": "execute_result"
    }
   ],
   "source": [
    "data = data.drop(missing_columns_names, axis = 1)\n",
    "data.shape"
   ]
  },
  {
   "cell_type": "markdown",
   "id": "0a69f3bd",
   "metadata": {},
   "source": [
    "It is possible to see that **28 sensors** had more than 50% of missing data."
   ]
  },
  {
   "cell_type": "markdown",
   "id": "6a757db3",
   "metadata": {},
   "source": [
    "### Question 1.3: Fill the missing values with zeroes"
   ]
  },
  {
   "cell_type": "code",
   "execution_count": 18,
   "id": "827b1a76",
   "metadata": {},
   "outputs": [],
   "source": [
    "data.fillna(0, inplace=True)"
   ]
  },
  {
   "cell_type": "code",
   "execution_count": 19,
   "id": "74d24fa0",
   "metadata": {},
   "outputs": [
    {
     "data": {
      "text/html": [
       "<div>\n",
       "<style scoped>\n",
       "    .dataframe tbody tr th:only-of-type {\n",
       "        vertical-align: middle;\n",
       "    }\n",
       "\n",
       "    .dataframe tbody tr th {\n",
       "        vertical-align: top;\n",
       "    }\n",
       "\n",
       "    .dataframe thead th {\n",
       "        text-align: right;\n",
       "    }\n",
       "</style>\n",
       "<table border=\"1\" class=\"dataframe\">\n",
       "  <thead>\n",
       "    <tr style=\"text-align: right;\">\n",
       "      <th></th>\n",
       "      <th>Sensor 1</th>\n",
       "      <th>Sensor 2</th>\n",
       "      <th>Sensor 3</th>\n",
       "      <th>Sensor 4</th>\n",
       "      <th>Sensor 5</th>\n",
       "      <th>Sensor 7</th>\n",
       "      <th>Sensor 8</th>\n",
       "      <th>Sensor 9</th>\n",
       "      <th>Sensor 10</th>\n",
       "      <th>Sensor 11</th>\n",
       "      <th>...</th>\n",
       "      <th>Sensor 578</th>\n",
       "      <th>Sensor 583</th>\n",
       "      <th>Sensor 584</th>\n",
       "      <th>Sensor 585</th>\n",
       "      <th>Sensor 586</th>\n",
       "      <th>Sensor 587</th>\n",
       "      <th>Sensor 588</th>\n",
       "      <th>Sensor 589</th>\n",
       "      <th>Sensor 590</th>\n",
       "      <th>Target</th>\n",
       "    </tr>\n",
       "  </thead>\n",
       "  <tbody>\n",
       "    <tr>\n",
       "      <th>0</th>\n",
       "      <td>3030.93</td>\n",
       "      <td>2564.00</td>\n",
       "      <td>2187.7333</td>\n",
       "      <td>1411.1265</td>\n",
       "      <td>1.3602</td>\n",
       "      <td>97.6133</td>\n",
       "      <td>0.1242</td>\n",
       "      <td>1.5005</td>\n",
       "      <td>0.0162</td>\n",
       "      <td>-0.0034</td>\n",
       "      <td>...</td>\n",
       "      <td>14.9509</td>\n",
       "      <td>0.5005</td>\n",
       "      <td>0.0118</td>\n",
       "      <td>0.0035</td>\n",
       "      <td>2.3630</td>\n",
       "      <td>0.0000</td>\n",
       "      <td>0.0000</td>\n",
       "      <td>0.0000</td>\n",
       "      <td>0.0000</td>\n",
       "      <td>1</td>\n",
       "    </tr>\n",
       "    <tr>\n",
       "      <th>1</th>\n",
       "      <td>3095.78</td>\n",
       "      <td>2465.14</td>\n",
       "      <td>2230.4222</td>\n",
       "      <td>1463.6606</td>\n",
       "      <td>0.8294</td>\n",
       "      <td>102.3433</td>\n",
       "      <td>0.1247</td>\n",
       "      <td>1.4966</td>\n",
       "      <td>-0.0005</td>\n",
       "      <td>-0.0148</td>\n",
       "      <td>...</td>\n",
       "      <td>10.9003</td>\n",
       "      <td>0.5019</td>\n",
       "      <td>0.0223</td>\n",
       "      <td>0.0055</td>\n",
       "      <td>4.4447</td>\n",
       "      <td>0.0096</td>\n",
       "      <td>0.0201</td>\n",
       "      <td>0.0060</td>\n",
       "      <td>208.2045</td>\n",
       "      <td>1</td>\n",
       "    </tr>\n",
       "    <tr>\n",
       "      <th>2</th>\n",
       "      <td>2932.61</td>\n",
       "      <td>2559.94</td>\n",
       "      <td>2186.4111</td>\n",
       "      <td>1698.0172</td>\n",
       "      <td>1.5102</td>\n",
       "      <td>95.4878</td>\n",
       "      <td>0.1241</td>\n",
       "      <td>1.4436</td>\n",
       "      <td>0.0041</td>\n",
       "      <td>0.0013</td>\n",
       "      <td>...</td>\n",
       "      <td>9.2721</td>\n",
       "      <td>0.4958</td>\n",
       "      <td>0.0157</td>\n",
       "      <td>0.0039</td>\n",
       "      <td>3.1745</td>\n",
       "      <td>0.0584</td>\n",
       "      <td>0.0484</td>\n",
       "      <td>0.0148</td>\n",
       "      <td>82.8602</td>\n",
       "      <td>0</td>\n",
       "    </tr>\n",
       "    <tr>\n",
       "      <th>3</th>\n",
       "      <td>2988.72</td>\n",
       "      <td>2479.90</td>\n",
       "      <td>2199.0333</td>\n",
       "      <td>909.7926</td>\n",
       "      <td>1.3204</td>\n",
       "      <td>104.2367</td>\n",
       "      <td>0.1217</td>\n",
       "      <td>1.4882</td>\n",
       "      <td>-0.0124</td>\n",
       "      <td>-0.0033</td>\n",
       "      <td>...</td>\n",
       "      <td>8.5831</td>\n",
       "      <td>0.4990</td>\n",
       "      <td>0.0103</td>\n",
       "      <td>0.0025</td>\n",
       "      <td>2.0544</td>\n",
       "      <td>0.0202</td>\n",
       "      <td>0.0149</td>\n",
       "      <td>0.0044</td>\n",
       "      <td>73.8432</td>\n",
       "      <td>1</td>\n",
       "    </tr>\n",
       "    <tr>\n",
       "      <th>4</th>\n",
       "      <td>3032.24</td>\n",
       "      <td>2502.87</td>\n",
       "      <td>2233.3667</td>\n",
       "      <td>1326.5200</td>\n",
       "      <td>1.5334</td>\n",
       "      <td>100.3967</td>\n",
       "      <td>0.1235</td>\n",
       "      <td>1.5031</td>\n",
       "      <td>-0.0031</td>\n",
       "      <td>-0.0072</td>\n",
       "      <td>...</td>\n",
       "      <td>10.9698</td>\n",
       "      <td>0.4800</td>\n",
       "      <td>0.4766</td>\n",
       "      <td>0.1045</td>\n",
       "      <td>99.3032</td>\n",
       "      <td>0.0202</td>\n",
       "      <td>0.0149</td>\n",
       "      <td>0.0044</td>\n",
       "      <td>73.8432</td>\n",
       "      <td>1</td>\n",
       "    </tr>\n",
       "  </tbody>\n",
       "</table>\n",
       "<p>5 rows × 446 columns</p>\n",
       "</div>"
      ],
      "text/plain": [
       "   Sensor 1  Sensor 2   Sensor 3   Sensor 4  Sensor 5  Sensor 7  Sensor 8  \\\n",
       "0   3030.93   2564.00  2187.7333  1411.1265    1.3602   97.6133    0.1242   \n",
       "1   3095.78   2465.14  2230.4222  1463.6606    0.8294  102.3433    0.1247   \n",
       "2   2932.61   2559.94  2186.4111  1698.0172    1.5102   95.4878    0.1241   \n",
       "3   2988.72   2479.90  2199.0333   909.7926    1.3204  104.2367    0.1217   \n",
       "4   3032.24   2502.87  2233.3667  1326.5200    1.5334  100.3967    0.1235   \n",
       "\n",
       "   Sensor 9  Sensor 10  Sensor 11  ...  Sensor 578  Sensor 583  Sensor 584  \\\n",
       "0    1.5005     0.0162    -0.0034  ...     14.9509      0.5005      0.0118   \n",
       "1    1.4966    -0.0005    -0.0148  ...     10.9003      0.5019      0.0223   \n",
       "2    1.4436     0.0041     0.0013  ...      9.2721      0.4958      0.0157   \n",
       "3    1.4882    -0.0124    -0.0033  ...      8.5831      0.4990      0.0103   \n",
       "4    1.5031    -0.0031    -0.0072  ...     10.9698      0.4800      0.4766   \n",
       "\n",
       "   Sensor 585  Sensor 586  Sensor 587  Sensor 588  Sensor 589  Sensor 590  \\\n",
       "0      0.0035      2.3630      0.0000      0.0000      0.0000      0.0000   \n",
       "1      0.0055      4.4447      0.0096      0.0201      0.0060    208.2045   \n",
       "2      0.0039      3.1745      0.0584      0.0484      0.0148     82.8602   \n",
       "3      0.0025      2.0544      0.0202      0.0149      0.0044     73.8432   \n",
       "4      0.1045     99.3032      0.0202      0.0149      0.0044     73.8432   \n",
       "\n",
       "   Target  \n",
       "0       1  \n",
       "1       1  \n",
       "2       0  \n",
       "3       1  \n",
       "4       1  \n",
       "\n",
       "[5 rows x 446 columns]"
      ]
     },
     "execution_count": 19,
     "metadata": {},
     "output_type": "execute_result"
    }
   ],
   "source": [
    "#Validate that the missing values were replaced\n",
    "data.head()"
   ]
  },
  {
   "cell_type": "code",
   "execution_count": 20,
   "id": "5fcd2935",
   "metadata": {},
   "outputs": [
    {
     "data": {
      "text/html": [
       "<div>\n",
       "<style scoped>\n",
       "    .dataframe tbody tr th:only-of-type {\n",
       "        vertical-align: middle;\n",
       "    }\n",
       "\n",
       "    .dataframe tbody tr th {\n",
       "        vertical-align: top;\n",
       "    }\n",
       "\n",
       "    .dataframe thead th {\n",
       "        text-align: right;\n",
       "    }\n",
       "</style>\n",
       "<table border=\"1\" class=\"dataframe\">\n",
       "  <thead>\n",
       "    <tr style=\"text-align: right;\">\n",
       "      <th></th>\n",
       "      <th>Sensor 1</th>\n",
       "      <th>Sensor 2</th>\n",
       "      <th>Sensor 3</th>\n",
       "      <th>Sensor 4</th>\n",
       "      <th>Sensor 5</th>\n",
       "      <th>Sensor 7</th>\n",
       "      <th>Sensor 8</th>\n",
       "      <th>Sensor 9</th>\n",
       "      <th>Sensor 10</th>\n",
       "      <th>Sensor 11</th>\n",
       "      <th>...</th>\n",
       "      <th>Sensor 578</th>\n",
       "      <th>Sensor 583</th>\n",
       "      <th>Sensor 584</th>\n",
       "      <th>Sensor 585</th>\n",
       "      <th>Sensor 586</th>\n",
       "      <th>Sensor 587</th>\n",
       "      <th>Sensor 588</th>\n",
       "      <th>Sensor 589</th>\n",
       "      <th>Sensor 590</th>\n",
       "      <th>Target</th>\n",
       "    </tr>\n",
       "  </thead>\n",
       "  <tbody>\n",
       "    <tr>\n",
       "      <th>1562</th>\n",
       "      <td>2899.41</td>\n",
       "      <td>2464.36</td>\n",
       "      <td>2179.7333</td>\n",
       "      <td>3085.3781</td>\n",
       "      <td>1.4843</td>\n",
       "      <td>82.2467</td>\n",
       "      <td>0.1248</td>\n",
       "      <td>1.3424</td>\n",
       "      <td>-0.0045</td>\n",
       "      <td>-0.0057</td>\n",
       "      <td>...</td>\n",
       "      <td>11.7256</td>\n",
       "      <td>0.4988</td>\n",
       "      <td>0.0143</td>\n",
       "      <td>0.0039</td>\n",
       "      <td>2.8669</td>\n",
       "      <td>0.0068</td>\n",
       "      <td>0.0138</td>\n",
       "      <td>0.0047</td>\n",
       "      <td>203.1720</td>\n",
       "      <td>1</td>\n",
       "    </tr>\n",
       "    <tr>\n",
       "      <th>1563</th>\n",
       "      <td>3052.31</td>\n",
       "      <td>2522.55</td>\n",
       "      <td>2198.5667</td>\n",
       "      <td>1124.6595</td>\n",
       "      <td>0.8763</td>\n",
       "      <td>98.4689</td>\n",
       "      <td>0.1205</td>\n",
       "      <td>1.4333</td>\n",
       "      <td>-0.0061</td>\n",
       "      <td>-0.0093</td>\n",
       "      <td>...</td>\n",
       "      <td>17.8379</td>\n",
       "      <td>0.4975</td>\n",
       "      <td>0.0131</td>\n",
       "      <td>0.0036</td>\n",
       "      <td>2.6238</td>\n",
       "      <td>0.0068</td>\n",
       "      <td>0.0138</td>\n",
       "      <td>0.0047</td>\n",
       "      <td>203.1720</td>\n",
       "      <td>1</td>\n",
       "    </tr>\n",
       "    <tr>\n",
       "      <th>1564</th>\n",
       "      <td>2978.81</td>\n",
       "      <td>2379.78</td>\n",
       "      <td>2206.3000</td>\n",
       "      <td>1110.4967</td>\n",
       "      <td>0.8236</td>\n",
       "      <td>99.4122</td>\n",
       "      <td>0.1208</td>\n",
       "      <td>0.0000</td>\n",
       "      <td>0.0000</td>\n",
       "      <td>0.0000</td>\n",
       "      <td>...</td>\n",
       "      <td>17.7267</td>\n",
       "      <td>0.4987</td>\n",
       "      <td>0.0153</td>\n",
       "      <td>0.0041</td>\n",
       "      <td>3.0590</td>\n",
       "      <td>0.0197</td>\n",
       "      <td>0.0086</td>\n",
       "      <td>0.0025</td>\n",
       "      <td>43.5231</td>\n",
       "      <td>1</td>\n",
       "    </tr>\n",
       "    <tr>\n",
       "      <th>1565</th>\n",
       "      <td>2894.92</td>\n",
       "      <td>2532.01</td>\n",
       "      <td>2177.0333</td>\n",
       "      <td>1183.7287</td>\n",
       "      <td>1.5726</td>\n",
       "      <td>98.7978</td>\n",
       "      <td>0.1213</td>\n",
       "      <td>1.4622</td>\n",
       "      <td>-0.0072</td>\n",
       "      <td>0.0032</td>\n",
       "      <td>...</td>\n",
       "      <td>19.2104</td>\n",
       "      <td>0.5004</td>\n",
       "      <td>0.0178</td>\n",
       "      <td>0.0038</td>\n",
       "      <td>3.5662</td>\n",
       "      <td>0.0262</td>\n",
       "      <td>0.0245</td>\n",
       "      <td>0.0075</td>\n",
       "      <td>93.4941</td>\n",
       "      <td>1</td>\n",
       "    </tr>\n",
       "    <tr>\n",
       "      <th>1566</th>\n",
       "      <td>2944.92</td>\n",
       "      <td>2450.76</td>\n",
       "      <td>2195.4444</td>\n",
       "      <td>2914.1792</td>\n",
       "      <td>1.5978</td>\n",
       "      <td>85.1011</td>\n",
       "      <td>0.1235</td>\n",
       "      <td>0.0000</td>\n",
       "      <td>0.0000</td>\n",
       "      <td>0.0000</td>\n",
       "      <td>...</td>\n",
       "      <td>22.9183</td>\n",
       "      <td>0.4987</td>\n",
       "      <td>0.0181</td>\n",
       "      <td>0.0040</td>\n",
       "      <td>3.6275</td>\n",
       "      <td>0.0117</td>\n",
       "      <td>0.0162</td>\n",
       "      <td>0.0045</td>\n",
       "      <td>137.7844</td>\n",
       "      <td>1</td>\n",
       "    </tr>\n",
       "  </tbody>\n",
       "</table>\n",
       "<p>5 rows × 446 columns</p>\n",
       "</div>"
      ],
      "text/plain": [
       "      Sensor 1  Sensor 2   Sensor 3   Sensor 4  Sensor 5  Sensor 7  Sensor 8  \\\n",
       "1562   2899.41   2464.36  2179.7333  3085.3781    1.4843   82.2467    0.1248   \n",
       "1563   3052.31   2522.55  2198.5667  1124.6595    0.8763   98.4689    0.1205   \n",
       "1564   2978.81   2379.78  2206.3000  1110.4967    0.8236   99.4122    0.1208   \n",
       "1565   2894.92   2532.01  2177.0333  1183.7287    1.5726   98.7978    0.1213   \n",
       "1566   2944.92   2450.76  2195.4444  2914.1792    1.5978   85.1011    0.1235   \n",
       "\n",
       "      Sensor 9  Sensor 10  Sensor 11  ...  Sensor 578  Sensor 583  Sensor 584  \\\n",
       "1562    1.3424    -0.0045    -0.0057  ...     11.7256      0.4988      0.0143   \n",
       "1563    1.4333    -0.0061    -0.0093  ...     17.8379      0.4975      0.0131   \n",
       "1564    0.0000     0.0000     0.0000  ...     17.7267      0.4987      0.0153   \n",
       "1565    1.4622    -0.0072     0.0032  ...     19.2104      0.5004      0.0178   \n",
       "1566    0.0000     0.0000     0.0000  ...     22.9183      0.4987      0.0181   \n",
       "\n",
       "      Sensor 585  Sensor 586  Sensor 587  Sensor 588  Sensor 589  Sensor 590  \\\n",
       "1562      0.0039      2.8669      0.0068      0.0138      0.0047    203.1720   \n",
       "1563      0.0036      2.6238      0.0068      0.0138      0.0047    203.1720   \n",
       "1564      0.0041      3.0590      0.0197      0.0086      0.0025     43.5231   \n",
       "1565      0.0038      3.5662      0.0262      0.0245      0.0075     93.4941   \n",
       "1566      0.0040      3.6275      0.0117      0.0162      0.0045    137.7844   \n",
       "\n",
       "      Target  \n",
       "1562       1  \n",
       "1563       1  \n",
       "1564       1  \n",
       "1565       1  \n",
       "1566       1  \n",
       "\n",
       "[5 rows x 446 columns]"
      ]
     },
     "execution_count": 20,
     "metadata": {},
     "output_type": "execute_result"
    }
   ],
   "source": [
    "data.tail()"
   ]
  },
  {
   "cell_type": "code",
   "execution_count": 21,
   "id": "b036a87f",
   "metadata": {},
   "outputs": [
    {
     "data": {
      "text/plain": [
       "Sensor 1      0\n",
       "Sensor 2      0\n",
       "Sensor 3      0\n",
       "Sensor 4      0\n",
       "Sensor 5      0\n",
       "             ..\n",
       "Sensor 587    0\n",
       "Sensor 588    0\n",
       "Sensor 589    0\n",
       "Sensor 590    0\n",
       "Target        0\n",
       "Length: 446, dtype: int64"
      ]
     },
     "execution_count": 21,
     "metadata": {},
     "output_type": "execute_result"
    }
   ],
   "source": [
    "data.isnull().sum()"
   ]
  },
  {
   "cell_type": "code",
   "execution_count": 22,
   "id": "5da44186",
   "metadata": {},
   "outputs": [],
   "source": [
    "columns = data.columns.tolist()\n",
    "for i in columns:\n",
    "    data[i] = pd.to_numeric(data[i])"
   ]
  },
  {
   "cell_type": "code",
   "execution_count": 23,
   "id": "ba0209c8",
   "metadata": {},
   "outputs": [
    {
     "data": {
      "text/html": [
       "<div>\n",
       "<style scoped>\n",
       "    .dataframe tbody tr th:only-of-type {\n",
       "        vertical-align: middle;\n",
       "    }\n",
       "\n",
       "    .dataframe tbody tr th {\n",
       "        vertical-align: top;\n",
       "    }\n",
       "\n",
       "    .dataframe thead th {\n",
       "        text-align: right;\n",
       "    }\n",
       "</style>\n",
       "<table border=\"1\" class=\"dataframe\">\n",
       "  <thead>\n",
       "    <tr style=\"text-align: right;\">\n",
       "      <th></th>\n",
       "      <th>Sensor 1</th>\n",
       "      <th>Sensor 2</th>\n",
       "      <th>Sensor 3</th>\n",
       "      <th>Sensor 4</th>\n",
       "      <th>Sensor 5</th>\n",
       "      <th>Sensor 7</th>\n",
       "      <th>Sensor 8</th>\n",
       "      <th>Sensor 9</th>\n",
       "      <th>Sensor 10</th>\n",
       "      <th>Sensor 11</th>\n",
       "      <th>...</th>\n",
       "      <th>Sensor 578</th>\n",
       "      <th>Sensor 583</th>\n",
       "      <th>Sensor 584</th>\n",
       "      <th>Sensor 585</th>\n",
       "      <th>Sensor 586</th>\n",
       "      <th>Sensor 587</th>\n",
       "      <th>Sensor 588</th>\n",
       "      <th>Sensor 589</th>\n",
       "      <th>Sensor 590</th>\n",
       "      <th>Target</th>\n",
       "    </tr>\n",
       "  </thead>\n",
       "  <tbody>\n",
       "    <tr>\n",
       "      <th>count</th>\n",
       "      <td>1567.000000</td>\n",
       "      <td>1567.000000</td>\n",
       "      <td>1567.000000</td>\n",
       "      <td>1567.000000</td>\n",
       "      <td>1567.000000</td>\n",
       "      <td>1567.000000</td>\n",
       "      <td>1567.000000</td>\n",
       "      <td>1567.000000</td>\n",
       "      <td>1567.000000</td>\n",
       "      <td>1567.000000</td>\n",
       "      <td>...</td>\n",
       "      <td>1567.000000</td>\n",
       "      <td>1567.000000</td>\n",
       "      <td>1567.000000</td>\n",
       "      <td>1567.000000</td>\n",
       "      <td>1567.000000</td>\n",
       "      <td>1567.000000</td>\n",
       "      <td>1567.000000</td>\n",
       "      <td>1567.000000</td>\n",
       "      <td>1567.000000</td>\n",
       "      <td>1567.000000</td>\n",
       "    </tr>\n",
       "    <tr>\n",
       "      <th>mean</th>\n",
       "      <td>3002.910638</td>\n",
       "      <td>2484.700932</td>\n",
       "      <td>2180.887035</td>\n",
       "      <td>1383.901023</td>\n",
       "      <td>4.159516</td>\n",
       "      <td>100.209538</td>\n",
       "      <td>0.121122</td>\n",
       "      <td>1.460995</td>\n",
       "      <td>-0.000840</td>\n",
       "      <td>0.000146</td>\n",
       "      <td>...</td>\n",
       "      <td>16.642363</td>\n",
       "      <td>0.499777</td>\n",
       "      <td>0.015308</td>\n",
       "      <td>0.003844</td>\n",
       "      <td>3.065869</td>\n",
       "      <td>0.021445</td>\n",
       "      <td>0.016464</td>\n",
       "      <td>0.005280</td>\n",
       "      <td>99.606461</td>\n",
       "      <td>0.933631</td>\n",
       "    </tr>\n",
       "    <tr>\n",
       "      <th>std</th>\n",
       "      <td>200.204648</td>\n",
       "      <td>184.815753</td>\n",
       "      <td>209.206773</td>\n",
       "      <td>458.937272</td>\n",
       "      <td>56.104457</td>\n",
       "      <td>11.363940</td>\n",
       "      <td>0.012831</td>\n",
       "      <td>0.090461</td>\n",
       "      <td>0.015107</td>\n",
       "      <td>0.009296</td>\n",
       "      <td>...</td>\n",
       "      <td>12.485267</td>\n",
       "      <td>0.013084</td>\n",
       "      <td>0.017179</td>\n",
       "      <td>0.003721</td>\n",
       "      <td>3.577730</td>\n",
       "      <td>0.012366</td>\n",
       "      <td>0.008815</td>\n",
       "      <td>0.002869</td>\n",
       "      <td>93.895701</td>\n",
       "      <td>0.249005</td>\n",
       "    </tr>\n",
       "    <tr>\n",
       "      <th>min</th>\n",
       "      <td>0.000000</td>\n",
       "      <td>0.000000</td>\n",
       "      <td>0.000000</td>\n",
       "      <td>0.000000</td>\n",
       "      <td>0.000000</td>\n",
       "      <td>0.000000</td>\n",
       "      <td>0.000000</td>\n",
       "      <td>0.000000</td>\n",
       "      <td>-0.053400</td>\n",
       "      <td>-0.034900</td>\n",
       "      <td>...</td>\n",
       "      <td>4.582000</td>\n",
       "      <td>0.000000</td>\n",
       "      <td>0.000000</td>\n",
       "      <td>0.000000</td>\n",
       "      <td>0.000000</td>\n",
       "      <td>-0.016900</td>\n",
       "      <td>0.000000</td>\n",
       "      <td>0.000000</td>\n",
       "      <td>0.000000</td>\n",
       "      <td>0.000000</td>\n",
       "    </tr>\n",
       "    <tr>\n",
       "      <th>25%</th>\n",
       "      <td>2965.670000</td>\n",
       "      <td>2451.515000</td>\n",
       "      <td>2180.700000</td>\n",
       "      <td>1080.116050</td>\n",
       "      <td>1.011000</td>\n",
       "      <td>97.762200</td>\n",
       "      <td>0.121100</td>\n",
       "      <td>1.410950</td>\n",
       "      <td>-0.010800</td>\n",
       "      <td>-0.005600</td>\n",
       "      <td>...</td>\n",
       "      <td>11.501550</td>\n",
       "      <td>0.497900</td>\n",
       "      <td>0.011600</td>\n",
       "      <td>0.003100</td>\n",
       "      <td>2.306200</td>\n",
       "      <td>0.013400</td>\n",
       "      <td>0.010600</td>\n",
       "      <td>0.003300</td>\n",
       "      <td>44.368600</td>\n",
       "      <td>1.000000</td>\n",
       "    </tr>\n",
       "    <tr>\n",
       "      <th>50%</th>\n",
       "      <td>3010.920000</td>\n",
       "      <td>2498.910000</td>\n",
       "      <td>2200.955600</td>\n",
       "      <td>1283.436800</td>\n",
       "      <td>1.310100</td>\n",
       "      <td>101.492200</td>\n",
       "      <td>0.122400</td>\n",
       "      <td>1.461500</td>\n",
       "      <td>-0.001300</td>\n",
       "      <td>0.000400</td>\n",
       "      <td>...</td>\n",
       "      <td>13.817900</td>\n",
       "      <td>0.500200</td>\n",
       "      <td>0.013800</td>\n",
       "      <td>0.003600</td>\n",
       "      <td>2.757600</td>\n",
       "      <td>0.020500</td>\n",
       "      <td>0.014800</td>\n",
       "      <td>0.004600</td>\n",
       "      <td>71.778000</td>\n",
       "      <td>1.000000</td>\n",
       "    </tr>\n",
       "    <tr>\n",
       "      <th>75%</th>\n",
       "      <td>3056.540000</td>\n",
       "      <td>2538.745000</td>\n",
       "      <td>2218.055500</td>\n",
       "      <td>1590.169900</td>\n",
       "      <td>1.518800</td>\n",
       "      <td>104.530000</td>\n",
       "      <td>0.123800</td>\n",
       "      <td>1.516850</td>\n",
       "      <td>0.008400</td>\n",
       "      <td>0.005900</td>\n",
       "      <td>...</td>\n",
       "      <td>17.080900</td>\n",
       "      <td>0.502350</td>\n",
       "      <td>0.016500</td>\n",
       "      <td>0.004100</td>\n",
       "      <td>3.294950</td>\n",
       "      <td>0.027600</td>\n",
       "      <td>0.020300</td>\n",
       "      <td>0.006400</td>\n",
       "      <td>114.749700</td>\n",
       "      <td>1.000000</td>\n",
       "    </tr>\n",
       "    <tr>\n",
       "      <th>max</th>\n",
       "      <td>3356.350000</td>\n",
       "      <td>2846.440000</td>\n",
       "      <td>2315.266700</td>\n",
       "      <td>3715.041700</td>\n",
       "      <td>1114.536600</td>\n",
       "      <td>129.252200</td>\n",
       "      <td>0.128600</td>\n",
       "      <td>1.656400</td>\n",
       "      <td>0.074900</td>\n",
       "      <td>0.053000</td>\n",
       "      <td>...</td>\n",
       "      <td>96.960100</td>\n",
       "      <td>0.509800</td>\n",
       "      <td>0.476600</td>\n",
       "      <td>0.104500</td>\n",
       "      <td>99.303200</td>\n",
       "      <td>0.102800</td>\n",
       "      <td>0.079900</td>\n",
       "      <td>0.028600</td>\n",
       "      <td>737.304800</td>\n",
       "      <td>1.000000</td>\n",
       "    </tr>\n",
       "  </tbody>\n",
       "</table>\n",
       "<p>8 rows × 446 columns</p>\n",
       "</div>"
      ],
      "text/plain": [
       "          Sensor 1     Sensor 2     Sensor 3     Sensor 4     Sensor 5  \\\n",
       "count  1567.000000  1567.000000  1567.000000  1567.000000  1567.000000   \n",
       "mean   3002.910638  2484.700932  2180.887035  1383.901023     4.159516   \n",
       "std     200.204648   184.815753   209.206773   458.937272    56.104457   \n",
       "min       0.000000     0.000000     0.000000     0.000000     0.000000   \n",
       "25%    2965.670000  2451.515000  2180.700000  1080.116050     1.011000   \n",
       "50%    3010.920000  2498.910000  2200.955600  1283.436800     1.310100   \n",
       "75%    3056.540000  2538.745000  2218.055500  1590.169900     1.518800   \n",
       "max    3356.350000  2846.440000  2315.266700  3715.041700  1114.536600   \n",
       "\n",
       "          Sensor 7     Sensor 8     Sensor 9    Sensor 10    Sensor 11  ...  \\\n",
       "count  1567.000000  1567.000000  1567.000000  1567.000000  1567.000000  ...   \n",
       "mean    100.209538     0.121122     1.460995    -0.000840     0.000146  ...   \n",
       "std      11.363940     0.012831     0.090461     0.015107     0.009296  ...   \n",
       "min       0.000000     0.000000     0.000000    -0.053400    -0.034900  ...   \n",
       "25%      97.762200     0.121100     1.410950    -0.010800    -0.005600  ...   \n",
       "50%     101.492200     0.122400     1.461500    -0.001300     0.000400  ...   \n",
       "75%     104.530000     0.123800     1.516850     0.008400     0.005900  ...   \n",
       "max     129.252200     0.128600     1.656400     0.074900     0.053000  ...   \n",
       "\n",
       "        Sensor 578   Sensor 583   Sensor 584   Sensor 585   Sensor 586  \\\n",
       "count  1567.000000  1567.000000  1567.000000  1567.000000  1567.000000   \n",
       "mean     16.642363     0.499777     0.015308     0.003844     3.065869   \n",
       "std      12.485267     0.013084     0.017179     0.003721     3.577730   \n",
       "min       4.582000     0.000000     0.000000     0.000000     0.000000   \n",
       "25%      11.501550     0.497900     0.011600     0.003100     2.306200   \n",
       "50%      13.817900     0.500200     0.013800     0.003600     2.757600   \n",
       "75%      17.080900     0.502350     0.016500     0.004100     3.294950   \n",
       "max      96.960100     0.509800     0.476600     0.104500    99.303200   \n",
       "\n",
       "        Sensor 587   Sensor 588   Sensor 589   Sensor 590       Target  \n",
       "count  1567.000000  1567.000000  1567.000000  1567.000000  1567.000000  \n",
       "mean      0.021445     0.016464     0.005280    99.606461     0.933631  \n",
       "std       0.012366     0.008815     0.002869    93.895701     0.249005  \n",
       "min      -0.016900     0.000000     0.000000     0.000000     0.000000  \n",
       "25%       0.013400     0.010600     0.003300    44.368600     1.000000  \n",
       "50%       0.020500     0.014800     0.004600    71.778000     1.000000  \n",
       "75%       0.027600     0.020300     0.006400   114.749700     1.000000  \n",
       "max       0.102800     0.079900     0.028600   737.304800     1.000000  \n",
       "\n",
       "[8 rows x 446 columns]"
      ]
     },
     "execution_count": 23,
     "metadata": {},
     "output_type": "execute_result"
    }
   ],
   "source": [
    "data.describe()"
   ]
  },
  {
   "cell_type": "code",
   "execution_count": 24,
   "id": "f871bf4b",
   "metadata": {},
   "outputs": [
    {
     "data": {
      "image/png": "[encoded data removed]",
      "text/plain": [
       "<Figure size 432x288 with 1 Axes>"
      ]
     },
     "metadata": {
      "needs_background": "light"
     },
     "output_type": "display_data"
    }
   ],
   "source": [
    "import matplotlib.pyplot as plt\n",
    "import seaborn as sns\n",
    "\n",
    "sns.countplot(x='Target',data=data)\n",
    "plt.show()"
   ]
  },
  {
   "cell_type": "markdown",
   "id": "7bad149d",
   "metadata": {},
   "source": [
    "Looking at the `Target` variable we can easly see there is a class imbalance."
   ]
  },
  {
   "cell_type": "markdown",
   "id": "6b5f8e2e",
   "metadata": {},
   "source": [
    "### Question 2.1: Split the data into Training and testing. Make your test size = 0.2 and your random_state = 42."
   ]
  },
  {
   "cell_type": "markdown",
   "id": "4598ee85",
   "metadata": {},
   "source": [
    "**Assumption:**\n",
    "- There is another unseen data set that will be used for the final Test once the model and hyperparameters are selected thru the train/validation set. This data set is not available on this analysis."
   ]
  },
  {
   "cell_type": "code",
   "execution_count": 25,
   "id": "6f9405f3",
   "metadata": {},
   "outputs": [],
   "source": [
    "columns.remove('Target')\n",
    "features = data[columns]\n",
    "target = data['Target']"
   ]
  },
  {
   "cell_type": "code",
   "execution_count": 26,
   "id": "e03d7b2d",
   "metadata": {},
   "outputs": [],
   "source": [
    "#First split the Training/Validation and the Testing Set\n",
    "X_train, X_test, y_train, y_test = train_test_split(features, target, test_size=0.2, random_state=42)"
   ]
  },
  {
   "cell_type": "markdown",
   "id": "e91edffe",
   "metadata": {},
   "source": [
    "### Question 2.2: Fit a logistic regression model on the training data. Predict the test data and plot the ROC curve"
   ]
  },
  {
   "cell_type": "code",
   "execution_count": 27,
   "id": "9ca86f05",
   "metadata": {},
   "outputs": [
    {
     "name": "stderr",
     "output_type": "stream",
     "text": [
      "C:\\Users\\rodol\\Anaconda3\\lib\\site-packages\\sklearn\\linear_model\\_logistic.py:763: ConvergenceWarning: lbfgs failed to converge (status=1):\n",
      "STOP: TOTAL NO. of ITERATIONS REACHED LIMIT.\n",
      "\n",
      "Increase the number of iterations (max_iter) or scale the data as shown in:\n",
      "    https://scikit-learn.org/stable/modules/preprocessing.html\n",
      "Please also refer to the documentation for alternative solver options:\n",
      "    https://scikit-learn.org/stable/modules/linear_model.html#logistic-regression\n",
      "  n_iter_i = _check_optimize_result(\n"
     ]
    },
    {
     "data": {
      "text/plain": [
       "LogisticRegression(max_iter=10000, random_state=5)"
      ]
     },
     "execution_count": 27,
     "metadata": {},
     "output_type": "execute_result"
    }
   ],
   "source": [
    "from sklearn.linear_model import LogisticRegression\n",
    "\n",
    "lr = LogisticRegression(solver='lbfgs', max_iter= 10000, random_state=5)\n",
    "lr.fit(X_train, y_train)"
   ]
  },
  {
   "cell_type": "markdown",
   "id": "e1c539c0",
   "metadata": {},
   "source": [
    "### Plot ROC Curve"
   ]
  },
  {
   "cell_type": "code",
   "execution_count": 28,
   "id": "565dd4a2",
   "metadata": {},
   "outputs": [
    {
     "name": "stdout",
     "output_type": "stream",
     "text": [
      "Accuracy: 0.8726114649681529\n",
      "AUC: 0.6435344827586207\n"
     ]
    },
    {
     "data": {
      "image/png": "[encoded data removed]",
      "text/plain": [
       "<Figure size 432x288 with 1 Axes>"
      ]
     },
     "metadata": {
      "needs_background": "light"
     },
     "output_type": "display_data"
    }
   ],
   "source": [
    "import sklearn.metrics\n",
    "from sklearn import preprocessing, metrics\n",
    "from sklearn.metrics import accuracy_score, confusion_matrix, classification_report, roc_curve, roc_auc_score\n",
    "%matplotlib inline\n",
    "\n",
    "def performance_values(X_test, y_test, lr):\n",
    "    y_pred = lr.predict(X_test)\n",
    "    lr_acc = accuracy_score(y_test, y_pred)\n",
    "    probs = lr.predict_proba(X_test)\n",
    "    preds = probs[:,1]\n",
    "    fpr, tpr, threshold = metrics.roc_curve(y_test, preds)\n",
    "    roc_auc = metrics.roc_auc_score(y_test, preds)\n",
    "    return (fpr, tpr, lr_acc, roc_auc)\n",
    "\n",
    "fpr, tpr, lr_acc, roc_auc = performance_values(X_test, y_test, lr)\n",
    "\n",
    "print(\"Accuracy: {}\".format(lr_acc))\n",
    "print(\"AUC: {}\".format(roc_auc))\n",
    "\n",
    "# Plot the ROC curve\n",
    "def ROC_curve(fpr,tpr,roc_auc):\n",
    "    plt.title('Receiver Operating Characteristic')\n",
    "    plt.plot(fpr, tpr, 'b', label = 'AUC = %0.2f' % roc_auc)\n",
    "    plt.legend(loc = 'lower right')\n",
    "    plt.plot([0, 1], [0, 1],'r--')\n",
    "    plt.xlim([0, 1])\n",
    "    plt.ylim([0, 1])\n",
    "    plt.ylabel('True Positive Rate')\n",
    "    plt.xlabel('False Positive Rate')\n",
    "    plt.show()\n",
    "\n",
    "ROC_curve(fpr,tpr,roc_auc)"
   ]
  },
  {
   "cell_type": "markdown",
   "id": "f41af25e",
   "metadata": {},
   "source": [
    "### Question 2.2: Apply RFE with a logistic regression model on the training data testing out different number of features. Predict the test data and plot the ROC curve."
   ]
  },
  {
   "cell_type": "markdown",
   "id": "339857ae",
   "metadata": {},
   "source": [
    "# Notes:\n",
    "\n",
    "- **Since we are using Recursive Feature Elimination, it is critical to do some data scaling to help on the convergence as it is computationally expensive.**\n",
    "    - Since the Features for this analysis are all over the place in terms of scale (magnitud) some a normalization will be used.\n",
    "- For this first model no changes on the class imbalance situation will be done, just to the performance of the model as is."
   ]
  },
  {
   "cell_type": "code",
   "execution_count": 29,
   "id": "21b6e45a",
   "metadata": {},
   "outputs": [],
   "source": [
    "from sklearn.preprocessing import StandardScaler\n",
    "\n",
    "#StandardScaler Normalization\n",
    "scaler = StandardScaler()\n",
    "scaler.fit(X_train)\n",
    "\n",
    "X_train_scaled = scaler.transform(X_train)\n",
    "X_test_scaled = scaler.transform(X_test)"
   ]
  },
  {
   "cell_type": "code",
   "execution_count": 30,
   "id": "9b2c1831",
   "metadata": {
    "scrolled": true
   },
   "outputs": [
    {
     "name": "stdout",
     "output_type": "stream",
     "text": [
      "\n",
      "# of RFE: 2 Accuracy: 0.9236 ,Precision: 0.9236 ,Recall: 1.0\n",
      "\n",
      "# of RFE: 5 Accuracy: 0.9236 ,Precision: 0.9236 ,Recall: 1.0\n",
      "\n",
      "# of RFE: 10 Accuracy: 0.9236 ,Precision: 0.9236 ,Recall: 1.0\n",
      "\n",
      "# of RFE: 50 Accuracy: 0.9045 ,Precision: 0.9221 ,Recall: 0.9793\n",
      "\n",
      "# of RFE: 100 Accuracy: 0.8949 ,Precision: 0.9327 ,Recall: 0.9552\n",
      "\n",
      "# of RFE: 200 Accuracy: 0.8885 ,Precision: 0.9322 ,Recall: 0.9483\n"
     ]
    }
   ],
   "source": [
    "from sklearn.feature_selection import RFE\n",
    "from sklearn.metrics import precision_score, recall_score\n",
    "\n",
    "model = LogisticRegression(solver='lbfgs', max_iter= 10000, random_state=5)\n",
    "\n",
    "options = [2,5,10,50,100,200]\n",
    "accuracy = []\n",
    "precision = []\n",
    "recall = []\n",
    "for i in options:\n",
    "    rfe = RFE(model, n_features_to_select = i)\n",
    "    rfe.fit(X_train_scaled, y_train)\n",
    "    y_pred = rfe.predict(X_test_scaled)\n",
    "    lr_acc = accuracy_score(y_test, y_pred)   \n",
    "    lr_precision = precision_score(y_test, y_pred)\n",
    "    lr_recall = recall_score(y_test, y_pred)\n",
    "    accuracy.append(lr_acc)\n",
    "    precision.append(lr_precision)\n",
    "    recall.append(lr_recall)\n",
    "    print(\"\\n# of RFE:\",i,\"Accuracy:\", round(lr_acc,4), \",Precision:\", round(lr_precision,4), \",Recall:\", round(lr_recall,4))"
   ]
  },
  {
   "cell_type": "markdown",
   "id": "566184ff",
   "metadata": {},
   "source": [
    "### Model Selection"
   ]
  },
  {
   "cell_type": "code",
   "execution_count": 31,
   "id": "2b955c6a",
   "metadata": {},
   "outputs": [
    {
     "name": "stdout",
     "output_type": "stream",
     "text": [
      "Accuracy: 0.8949044585987261\n",
      "AUC: 0.6603448275862068\n"
     ]
    }
   ],
   "source": [
    "#Selected model based on the results above:\n",
    "rfe = RFE(model, n_features_to_select = 100)\n",
    "rfe.fit(X_train_scaled, y_train)\n",
    "\n",
    "fpr, tpr, lr_acc, roc_auc = performance_values(X_test_scaled, y_test, rfe)\n",
    "\n",
    "print(\"Accuracy: {}\".format(lr_acc))\n",
    "print(\"AUC: {}\".format(roc_auc))"
   ]
  },
  {
   "cell_type": "markdown",
   "id": "d3576cac",
   "metadata": {},
   "source": [
    "### Plot ROC Curve"
   ]
  },
  {
   "cell_type": "code",
   "execution_count": 32,
   "id": "9787d4fe",
   "metadata": {},
   "outputs": [
    {
     "data": {
      "image/png": "[encoded data removed]",
      "text/plain": [
       "<Figure size 432x288 with 1 Axes>"
      ]
     },
     "metadata": {
      "needs_background": "light"
     },
     "output_type": "display_data"
    }
   ],
   "source": [
    "# Plot the ROC curve\n",
    "ROC_curve(fpr,tpr,roc_auc)"
   ]
  },
  {
   "cell_type": "markdown",
   "id": "dd090399",
   "metadata": {},
   "source": [
    "### Question 3.1: Apply stratisfied tain test split to account for class imbalance"
   ]
  },
  {
   "cell_type": "code",
   "execution_count": 33,
   "id": "263b5942",
   "metadata": {},
   "outputs": [],
   "source": [
    "from sklearn.model_selection import train_test_split\n",
    "X_train, X_test, y_train, y_test = train_test_split(features, target,\n",
    "                                                    stratify=target, \n",
    "                                                    test_size=0.2)\n",
    "\n",
    "#Normalized the stratified data\n",
    "scaler = StandardScaler()\n",
    "scaler.fit(X_train)\n",
    "X_train_std_scaled = scaler.transform(X_train)\n",
    "X_test_std_scaled = scaler.transform(X_test)"
   ]
  },
  {
   "cell_type": "markdown",
   "id": "6abfd847",
   "metadata": {},
   "source": [
    "### Question 3.2: Apply RFE with a logistic regression model on the stratisfied training data testing out different number of features. Predict the test data and plot the ROC curve."
   ]
  },
  {
   "cell_type": "code",
   "execution_count": 34,
   "id": "3673d719",
   "metadata": {},
   "outputs": [
    {
     "name": "stdout",
     "output_type": "stream",
     "text": [
      "\n",
      "# of RFE: 2 Accuracy: 0.9331 ,Precision: 0.9331 ,Recall: 1.0\n",
      "\n",
      "# of RFE: 5 Accuracy: 0.9331 ,Precision: 0.9331 ,Recall: 1.0\n",
      "\n",
      "# of RFE: 10 Accuracy: 0.9331 ,Precision: 0.9331 ,Recall: 1.0\n",
      "\n",
      "# of RFE: 50 Accuracy: 0.9268 ,Precision: 0.9383 ,Recall: 0.9863\n",
      "\n",
      "# of RFE: 100 Accuracy: 0.8917 ,Precision: 0.936 ,Recall: 0.9488\n",
      "\n",
      "# of RFE: 200 Accuracy: 0.8758 ,Precision: 0.9349 ,Recall: 0.9317\n"
     ]
    }
   ],
   "source": [
    "model = LogisticRegression(solver='lbfgs', max_iter= 10000, random_state=5)\n",
    "\n",
    "options = [2,5,10,50,100,200]\n",
    "accuracy = []\n",
    "precision = []\n",
    "recall = []\n",
    "for i in options:\n",
    "    rfe = RFE(model, n_features_to_select = i)\n",
    "    rfe.fit(X_train_std_scaled, y_train)\n",
    "    y_pred = rfe.predict(X_test_std_scaled)\n",
    "    lr_acc = accuracy_score(y_test, y_pred)   \n",
    "    lr_precision = precision_score(y_test, y_pred)\n",
    "    lr_recall = recall_score(y_test, y_pred)\n",
    "    accuracy.append(lr_acc)\n",
    "    precision.append(lr_precision)\n",
    "    recall.append(lr_recall)\n",
    "    print(\"\\n# of RFE:\",i,\"Accuracy:\", round(lr_acc,4), \",Precision:\", round(lr_precision,4), \",Recall:\", round(lr_recall,4))"
   ]
  },
  {
   "cell_type": "markdown",
   "id": "44c16ccf",
   "metadata": {},
   "source": [
    "### Model Selection after Class Imbalance Treatment"
   ]
  },
  {
   "cell_type": "code",
   "execution_count": 35,
   "id": "91242e00",
   "metadata": {},
   "outputs": [
    {
     "name": "stdout",
     "output_type": "stream",
     "text": [
      "Accuracy: 0.89171974522293\n",
      "AUC: 0.6601657727937591\n"
     ]
    },
    {
     "data": {
      "image/png": "[encoded data removed]",
      "text/plain": [
       "<Figure size 432x288 with 1 Axes>"
      ]
     },
     "metadata": {
      "needs_background": "light"
     },
     "output_type": "display_data"
    }
   ],
   "source": [
    "regr = RFE(LogisticRegression(solver='lbfgs', max_iter= 10000, random_state=5), n_features_to_select=100)\n",
    "regr.fit(X_train_std_scaled, y_train)\n",
    "\n",
    "fpr, tpr, lr_acc, roc_auc = performance_values(X_test_std_scaled, y_test, regr)\n",
    "\n",
    "print(\"Accuracy: {}\".format(lr_acc))\n",
    "print(\"AUC: {}\".format(roc_auc))\n",
    "\n",
    "# Plot the ROC curve\n",
    "ROC_curve(fpr,tpr,roc_auc)"
   ]
  },
  {
   "cell_type": "markdown",
   "id": "383d01fa",
   "metadata": {},
   "source": [
    "### Question 4.1: Apply stratisfied K-Fold split where K=5 to the above data "
   ]
  },
  {
   "cell_type": "markdown",
   "id": "1a98a507",
   "metadata": {},
   "source": [
    "Note: This will be done using the model selected above"
   ]
  },
  {
   "cell_type": "code",
   "execution_count": 36,
   "id": "94f2571c",
   "metadata": {},
   "outputs": [
    {
     "name": "stdout",
     "output_type": "stream",
     "text": [
      "Accuracy: 87.55% (1.91%)\n"
     ]
    }
   ],
   "source": [
    "from sklearn.model_selection import StratifiedKFold, cross_val_score, cross_val_predict, KFold\n",
    "\n",
    "skf = StratifiedKFold(n_splits=5)\n",
    "regr = RFE(LogisticRegression(solver='lbfgs', max_iter= 10000, random_state=5), n_features_to_select=100)\n",
    "results = cross_val_score(model, X_train_std_scaled, y_train, cv=skf)\n",
    "crossval_scores = cross_val_score(model, X_train_std_scaled, y_train, scoring='roc_auc', cv=skf)\n",
    "predictions = cross_val_predict(model, X_train_std_scaled, y_train, cv=skf)\n",
    "print(\"Accuracy: %.2f%% (%.2f%%)\" % (results.mean()*100.0, results.std()*100.0))"
   ]
  },
  {
   "cell_type": "markdown",
   "id": "68a9bcb3",
   "metadata": {},
   "source": [
    "Looking at the 95% Confidence Intervals:"
   ]
  },
  {
   "cell_type": "code",
   "execution_count": 37,
   "id": "a0bea196",
   "metadata": {},
   "outputs": [
    {
     "name": "stdout",
     "output_type": "stream",
     "text": [
      "95.0 confidence interval 85.3% and 90.0%\n"
     ]
    }
   ],
   "source": [
    "# confidence intervals\n",
    "alpha = 0.95\n",
    "p = ((1.0-alpha)/2.0) * 100\n",
    "lower = max(0.0, np.percentile(results, p))\n",
    "p = (alpha+((1.0-alpha)/2.0)) * 100\n",
    "upper = min(1.0, np.percentile(results, p))\n",
    "print('%.1f confidence interval %.1f%% and %.1f%%' % (alpha*100, lower*100, upper*100))"
   ]
  },
  {
   "cell_type": "markdown",
   "id": "0711c195",
   "metadata": {},
   "source": [
    "### Implement the model and then create the ROC Curve"
   ]
  },
  {
   "cell_type": "code",
   "execution_count": 38,
   "id": "542331c3",
   "metadata": {},
   "outputs": [
    {
     "name": "stdout",
     "output_type": "stream",
     "text": [
      "Accuracy: 0.89171974522293\n",
      "AUC: 0.6601657727937591\n"
     ]
    },
    {
     "data": {
      "image/png": "[encoded data removed]",
      "text/plain": [
       "<Figure size 432x288 with 1 Axes>"
      ]
     },
     "metadata": {
      "needs_background": "light"
     },
     "output_type": "display_data"
    }
   ],
   "source": [
    "regr = RFE(LogisticRegression(solver='lbfgs', max_iter= 10000, random_state=5), n_features_to_select=100)\n",
    "regr.fit(X_train_std_scaled, y_train)\n",
    "\n",
    "fpr, tpr, lr_acc, roc_auc = performance_values(X_test_std_scaled, y_test, regr)\n",
    "\n",
    "print(\"Accuracy: {}\".format(lr_acc))\n",
    "print(\"AUC: {}\".format(roc_auc))\n",
    "\n",
    "# Plot the ROC curve\n",
    "ROC_curve(fpr,tpr,roc_auc)"
   ]
  },
  {
   "cell_type": "markdown",
   "id": "8c1ee11d",
   "metadata": {},
   "source": [
    "### Question 4.2: Summarize your findings of all above models"
   ]
  },
  {
   "cell_type": "markdown",
   "id": "2bc1001b",
   "metadata": {},
   "source": [
    "The model is providing an `Accuracy` performance value 88.8% and we are 95 confident that the actual `Accuracy` will be between **87.7%** & **90.8%**.\n",
    "\n",
    "At the same time it is possible to notice the poor `ROC AUC` value, indicating a prediction comparable to tossing a coin (I will explore this in the **Extra Analysis** section)."
   ]
  },
  {
   "cell_type": "markdown",
   "id": "f225e75d",
   "metadata": {},
   "source": [
    "### Question 5. Create a new text cell in your Notebook: Complete a 50-100 word summary(or short description of your thinking in applying this week's learning to the solution)of your experience in this assignment. Include:\n",
    "                                                                      \n",
    "- What was your incoming experience with this model, if any?\n",
    "- What steps you took, what obstacles you encountered.\n",
    "- How you link this exercise to real-world, machine learning problem-solving. (What steps were missing? What else do you need to learn?)"
   ]
  },
  {
   "cell_type": "markdown",
   "id": "1ab15dcd",
   "metadata": {},
   "source": [
    "# Extra Analysis"
   ]
  },
  {
   "cell_type": "markdown",
   "id": "ec7ec4c8",
   "metadata": {},
   "source": [
    "In this section of the analysis I will explore other methods for **Feature Selection**, **Class Imbalance** correction and different **models/hyperparameters** as well as a final performance test using unseen data to the model."
   ]
  },
  {
   "cell_type": "markdown",
   "id": "aab90657",
   "metadata": {},
   "source": [
    "## Feature Selection (LASSO)"
   ]
  },
  {
   "cell_type": "code",
   "execution_count": 39,
   "id": "935199ae",
   "metadata": {},
   "outputs": [
    {
     "name": "stdout",
     "output_type": "stream",
     "text": [
      "Sum of square of coefficients = 0.01\n",
      "# of Features using LASSO: 203\n"
     ]
    },
    {
     "name": "stderr",
     "output_type": "stream",
     "text": [
      "C:\\Users\\rodol\\Anaconda3\\lib\\site-packages\\sklearn\\linear_model\\_coordinate_descent.py:530: ConvergenceWarning: Objective did not converge. You might want to increase the number of iterations. Duality gap: 36.16162559340931, tolerance: 0.009709763880025528\n",
      "  model = cd_fast.enet_coordinate_descent(\n"
     ]
    }
   ],
   "source": [
    "# LASSO\n",
    "from sklearn import linear_model\n",
    "alpha = 0.001 # Increasing alpha can shrink more variable coefficients to 0\n",
    "clf = linear_model.Lasso(alpha=alpha)\n",
    "\n",
    "clf.fit(features, target)\n",
    "lasso_coef = clf.coef_\n",
    "wrapper_columns = features.columns.tolist()\n",
    "\n",
    "print(\"Sum of square of coefficients = %.2f\"%np.sum(clf.coef_**2)) \n",
    "\n",
    "#Selection of the non zero coefficients from the LASSO regression\n",
    "lasso_features = []\n",
    "non_lasso_features = []\n",
    "for i in range(len(wrapper_columns)):\n",
    "    w = lasso_coef[i]\n",
    "    if w != 0:\n",
    "        u = wrapper_columns[i]\n",
    "        lasso_features.append(u)\n",
    "    else:\n",
    "        t = wrapper_columns[i]\n",
    "        non_lasso_features.append(t)\n",
    "        \n",
    "len_lasso = len(lasso_features)\n",
    "print('# of Features using LASSO: ' + str(len_lasso))"
   ]
  },
  {
   "cell_type": "markdown",
   "id": "65ed2861",
   "metadata": {},
   "source": [
    "### Split the Data into the Train/Validation & Test set"
   ]
  },
  {
   "cell_type": "code",
   "execution_count": 40,
   "id": "0703e8f5",
   "metadata": {},
   "outputs": [],
   "source": [
    "#Split the data for variables with high mi value\n",
    "lasso_variables = data[lasso_features]\n",
    "X, X_test_final, y, y_test_final = train_test_split(lasso_variables, target, test_size=0.20, random_state=42)"
   ]
  },
  {
   "cell_type": "markdown",
   "id": "f0ca1738",
   "metadata": {},
   "source": [
    "In summary the variables that are going to be input to the model are:\n",
    "- Training/Testing (this is going to be split into Training and Validation):\n",
    "    - `X`\n",
    "    - `y`\n",
    "    \n",
    "    \n",
    "- Final Testing (unseen data to the model):\n",
    "    - `X_test_final`\n",
    "    - `y_test_final`"
   ]
  },
  {
   "cell_type": "markdown",
   "id": "3206848e",
   "metadata": {},
   "source": [
    "### Split the Data into the Train & Validation Test set"
   ]
  },
  {
   "cell_type": "code",
   "execution_count": 41,
   "id": "0131c827",
   "metadata": {},
   "outputs": [],
   "source": [
    "X_train, X_test, y_train, y_test = train_test_split(X, y, test_size=0.20, random_state=42)"
   ]
  },
  {
   "cell_type": "markdown",
   "id": "f98690cb",
   "metadata": {},
   "source": [
    "## Class Imbalance"
   ]
  },
  {
   "cell_type": "code",
   "execution_count": 42,
   "id": "cae445df",
   "metadata": {},
   "outputs": [],
   "source": [
    "from collections import Counter\n",
    "from sklearn.datasets import make_classification\n",
    "from imblearn.over_sampling import SMOTE \n",
    "\n",
    "sm = SMOTE(random_state=42)\n",
    "\n",
    "variables_sm, label_sm = sm.fit_resample(X, y)\n",
    "X_train_sm, X_test_sm, y_train_sm, y_test_sm = train_test_split(variables_sm, label_sm, test_size=0.20, random_state=42)"
   ]
  },
  {
   "cell_type": "markdown",
   "id": "8cb7b878",
   "metadata": {},
   "source": [
    "In summary the variables that are going to be input to the model are:\n",
    "- Training:\n",
    "    - `X_train_sm`\n",
    "    - `y_train_sm`\n",
    "    \n",
    "    \n",
    "- Testing:\n",
    "    - `X_test`\n",
    "    - `y_test`"
   ]
  },
  {
   "cell_type": "markdown",
   "id": "960c1434",
   "metadata": {},
   "source": [
    "## Different Models and Hyperparameters"
   ]
  },
  {
   "cell_type": "code",
   "execution_count": 43,
   "id": "4c8698ca",
   "metadata": {},
   "outputs": [],
   "source": [
    "from sklearn.tree import DecisionTreeClassifier\n",
    "from sklearn.ensemble import RandomForestClassifier \n",
    "from sklearn.model_selection import RandomizedSearchCV\n",
    "from sklearn import svm, metrics\n",
    "from sklearn.metrics import classification_report"
   ]
  },
  {
   "cell_type": "markdown",
   "id": "6b18c50e",
   "metadata": {},
   "source": [
    "### Hyperparameter Settings for the `Decision Tree` Model"
   ]
  },
  {
   "cell_type": "code",
   "execution_count": 44,
   "id": "f0cfb8ec",
   "metadata": {},
   "outputs": [
    {
     "name": "stdout",
     "output_type": "stream",
     "text": [
      "Fitting 3 folds for each of 200 candidates, totalling 600 fits\n"
     ]
    },
    {
     "data": {
      "text/plain": [
       "{'min_samples_split': 7,\n",
       " 'min_samples_leaf': 3,\n",
       " 'max_depth': 9,\n",
       " 'criterion': 'entropy'}"
      ]
     },
     "execution_count": 44,
     "metadata": {},
     "output_type": "execute_result"
    }
   ],
   "source": [
    "max_depth_options = [2,3,4,5,6,7,8,9,10]\n",
    "min_sample_options = [2,3,4,5,6,7,8,9,10]\n",
    "model_criterion = ['entropy', 'gini']\n",
    "min_samples_leaf_options = [2,3,4,5,6,7,8,9,10]\n",
    "\n",
    "dt_grid = {'criterion': model_criterion, \n",
    "           'max_depth': max_depth_options,\n",
    "           'min_samples_split':min_sample_options,\n",
    "           'min_samples_leaf':min_samples_leaf_options}\n",
    "\n",
    "dt_base = DecisionTreeClassifier()\n",
    "\n",
    "decision_trees_hyper = RandomizedSearchCV(estimator = dt_base, param_distributions = dt_grid, \n",
    "                               n_iter = 200, cv = 3, verbose = 2, random_state = 42, \n",
    "                               n_jobs = -1)\n",
    "\n",
    "# Fit the random search model\n",
    "decision_trees_hyper.fit(X_train_sm, y_train_sm)\n",
    "\n",
    "x = decision_trees_hyper.best_params_\n",
    "x"
   ]
  },
  {
   "cell_type": "markdown",
   "id": "23671bfa",
   "metadata": {},
   "source": [
    "### Hyperparameter Settings for the `Random Forest` Model"
   ]
  },
  {
   "cell_type": "code",
   "execution_count": 45,
   "id": "e46abda6",
   "metadata": {},
   "outputs": [
    {
     "name": "stdout",
     "output_type": "stream",
     "text": [
      "Fitting 3 folds for each of 200 candidates, totalling 600 fits\n"
     ]
    },
    {
     "data": {
      "text/plain": [
       "{'n_estimators': 50,\n",
       " 'min_samples_split': 4,\n",
       " 'min_samples_leaf': 2,\n",
       " 'max_depth': 10,\n",
       " 'criterion': 'entropy'}"
      ]
     },
     "execution_count": 45,
     "metadata": {},
     "output_type": "execute_result"
    }
   ],
   "source": [
    "n_estimators_options = [10,20,30,40,50,60,70,80,90,100]\n",
    "\n",
    "rf_grid = {'criterion': model_criterion,\n",
    "           'n_estimators':n_estimators_options, \n",
    "           'max_depth': max_depth_options,\n",
    "           'min_samples_split':min_sample_options,\n",
    "           'min_samples_leaf':min_samples_leaf_options}\n",
    "\n",
    "rf_base = RandomForestClassifier()\n",
    "\n",
    "random_forest_hyper = RandomizedSearchCV(estimator = rf_base, param_distributions = rf_grid, \n",
    "                               n_iter = 200, cv = 3, verbose = 2, random_state = 42, \n",
    "                               n_jobs = -1)\n",
    "\n",
    "# Fit the random search model\n",
    "random_forest_hyper.fit(X_train_sm, y_train_sm)\n",
    "\n",
    "y = random_forest_hyper.best_params_\n",
    "y"
   ]
  },
  {
   "cell_type": "markdown",
   "id": "1eec1c1d",
   "metadata": {},
   "source": [
    "### Hyperparameter Settings for the `Logistic Regression` Model"
   ]
  },
  {
   "cell_type": "code",
   "execution_count": 46,
   "id": "c1745de0",
   "metadata": {},
   "outputs": [
    {
     "name": "stderr",
     "output_type": "stream",
     "text": [
      "C:\\Users\\rodol\\Anaconda3\\lib\\site-packages\\sklearn\\model_selection\\_search.py:285: UserWarning: The total space of parameters 8 is smaller than n_iter=200. Running 8 iterations. For exhaustive searches, use GridSearchCV.\n",
      "  warnings.warn(\n"
     ]
    },
    {
     "name": "stdout",
     "output_type": "stream",
     "text": [
      "Fitting 3 folds for each of 8 candidates, totalling 24 fits\n"
     ]
    },
    {
     "name": "stderr",
     "output_type": "stream",
     "text": [
      "C:\\Users\\rodol\\Anaconda3\\lib\\site-packages\\sklearn\\model_selection\\_search.py:918: UserWarning: One or more of the test scores are non-finite: [0.71641406 0.71641406        nan 0.71641406 0.77291161 0.77291161\n",
      "        nan 0.77291161]\n",
      "  warnings.warn(\n"
     ]
    },
    {
     "data": {
      "text/plain": [
       "{'solver': 'saga',\n",
       " 'penalty': 'l1',\n",
       " 'multi_class': 'multinomial',\n",
       " 'max_iter': 10000}"
      ]
     },
     "execution_count": 46,
     "metadata": {},
     "output_type": "execute_result"
    }
   ],
   "source": [
    "max_iter_options = [1000,10000]\n",
    "penalty_options = ['l1', 'l2', 'elasticnet', 'none']\n",
    "solver_options = ['saga']\n",
    "multi = ['multinomial']\n",
    "\n",
    "lr_grid = {'penalty': penalty_options,\n",
    "           'solver': solver_options,\n",
    "           'multi_class': multi,\n",
    "           'max_iter': max_iter_options}\n",
    "\n",
    "lr_base = LogisticRegression()\n",
    "\n",
    "logistic_reg_hyper = RandomizedSearchCV(estimator = lr_base, param_distributions = lr_grid, \n",
    "                               n_iter = 200, cv = 3, verbose = 2, random_state = 42, \n",
    "                               n_jobs = -1)\n",
    "\n",
    "# Fit the random search model\n",
    "logistic_reg_hyper.fit(X_train_sm, y_train_sm)\n",
    "\n",
    "z = logistic_reg_hyper.best_params_\n",
    "z"
   ]
  },
  {
   "cell_type": "markdown",
   "id": "557f4677",
   "metadata": {},
   "source": [
    "## Comparison"
   ]
  },
  {
   "cell_type": "code",
   "execution_count": 47,
   "id": "212ac90b",
   "metadata": {},
   "outputs": [],
   "source": [
    "def perfomance_values(T,Y,header):\n",
    "    print(\"Classifier: \", header)\n",
    "    # Confusion Matrix\n",
    "    CM = confusion_matrix(T, Y)\n",
    "    #print (\"\\n\\nConfusion matrix:\\n\", CM)\n",
    "    tn, fp, fn, tp = CM.ravel()\n",
    "    #print (\"\\nTP, TN, FP, FN:\", tp, \",\", tn, \",\", fp, \",\", fn)\n",
    "    AR = accuracy_score(T, Y)\n",
    "    ER = 1.0 - AR\n",
    "    P = precision_score(T, Y)\n",
    "    R = recall_score(T, Y)\n",
    "    F1 = f1_score(T, Y)\n",
    "    print (\"\\nAccuracy:\", round(AR,4), \",Error Rate:\", round(ER,4), \",Precision:\", round(P,4), \",Recall:\", round(R,4), \",F1 Score:\",round(F1,4))\n",
    "    print (\" \")\n",
    "    return AR, ER, P, R, F1\n",
    "\n",
    "#Function to make sure the output is a boolean as it is needed for the roc_curve\n",
    "def booleans(vector):\n",
    "    final = []\n",
    "    for i in vector:\n",
    "        if i == 1:\n",
    "            i = 0\n",
    "        else:\n",
    "            i = 1\n",
    "        final.append(i)\n",
    "    return final\n",
    "\n",
    "#Function to train the model and obtain the perfomance values from each model (in a plot form)\n",
    "def classifier_performance(V, header, X_train, X_test, y_train, y_test):\n",
    "    accuracy_rate = []\n",
    "    error_rate = []\n",
    "    precision = []\n",
    "    recall = []\n",
    "    f1_score = []\n",
    "    for i in range(len(header)):\n",
    "        V[i].fit(X_train, y_train)\n",
    "        proba = V[i].predict_proba(X_test)[:,1]#Predictions and probabilities\n",
    "        prediction = V[i].predict(X_test)\n",
    "        #Creating a Data Frame for the Test, Prediction and Probaility Data\n",
    "        T = y_test.values.tolist()\n",
    "        Y = prediction.tolist()\n",
    "        y = proba.tolist()\n",
    "        Y = booleans(Y)\n",
    "        T = booleans(T)\n",
    "        AR, ER, P, R, F1 = perfomance_values(T,Y,header[i])\n",
    "        accuracy_rate.append(AR)\n",
    "        error_rate.append(ER)\n",
    "        precision.append(P)\n",
    "        recall.append(R)\n",
    "        f1_score.append(F1)\n",
    "        allvalues = [AR, ER, P, R, F1]\n",
    "    #return allvalues\n",
    "\n",
    "    names = ['Accuracy Rate','Error Rate','Precision','Recall','F1 Score']\n",
    "    list_of_values = [accuracy_rate, error_rate, precision, recall, f1_score]\n",
    "    colors = ['lightseagreen', 'tomato', 'darkmagenta', 'crimson', 'olive']\n",
    "    \n",
    "    #Plots of each of the Performance Values for each of the Classifiers in this analysis\n",
    "    for i in range(len(names)):\n",
    "        plt.bar(header, list_of_values[i], color=colors[i])\n",
    "        plt.xticks(rotation=45)\n",
    "        plt.title(names[i])\n",
    "        plt.ylabel(\"Score\")\n",
    "        plt.show()"
   ]
  },
  {
   "cell_type": "markdown",
   "id": "cd478f7b",
   "metadata": {},
   "source": [
    "#### Training and Validation of every model with optimal hyperparameters"
   ]
  },
  {
   "cell_type": "code",
   "execution_count": 48,
   "id": "7dab8131",
   "metadata": {},
   "outputs": [],
   "source": [
    "#Classifiers\n",
    "dt = DecisionTreeClassifier(criterion=x['criterion'], max_depth = x['max_depth'], min_samples_split = x['min_samples_split'], min_samples_leaf = x['min_samples_leaf'])\n",
    "rf = RandomForestClassifier(n_estimators = y['n_estimators'], criterion = y['criterion'], max_depth = y['max_depth'], min_samples_split = y['min_samples_split'], min_samples_leaf = y['min_samples_leaf'])\n",
    "lr = LogisticRegression(solver = z['solver'], penalty = z['penalty'], multi_class = z['multi_class'], max_iter = z['max_iter'])\n",
    "\n",
    "#List for Classifiers and Names\n",
    "header = [\"Decision_Tree\",\"Random_Forest\", \"Logistic_Regression\"]\n",
    "V = [dt, rf, lr]"
   ]
  },
  {
   "cell_type": "code",
   "execution_count": 49,
   "id": "fdbc153b",
   "metadata": {
    "scrolled": false
   },
   "outputs": [
    {
     "name": "stdout",
     "output_type": "stream",
     "text": [
      "Classifier:  Decision_Tree\n",
      "\n",
      "Accuracy: 0.9044 ,Error Rate: 0.0956 ,Precision: 0.4524 ,Recall: 0.95 ,F1 Score: 0.6129\n",
      " \n",
      "Classifier:  Random_Forest\n",
      "\n",
      "Accuracy: 0.988 ,Error Rate: 0.012 ,Precision: 0.8696 ,Recall: 1.0 ,F1 Score: 0.9302\n",
      " \n",
      "Classifier:  Logistic_Regression\n",
      "\n",
      "Accuracy: 0.7809 ,Error Rate: 0.2191 ,Precision: 0.2388 ,Recall: 0.8 ,F1 Score: 0.3678\n",
      " \n"
     ]
    },
    {
     "data": {
      "image/png": "[encoded data removed]",
      "text/plain": [
       "<Figure size 432x288 with 1 Axes>"
      ]
     },
     "metadata": {
      "needs_background": "light"
     },
     "output_type": "display_data"
    },
    {
     "data": {
      "image/png": "[encoded data removed]",
      "text/plain": [
       "<Figure size 432x288 with 1 Axes>"
      ]
     },
     "metadata": {
      "needs_background": "light"
     },
     "output_type": "display_data"
    },
    {
     "data": {
      "image/png": "[encoded data removed]",
      "text/plain": [
       "<Figure size 432x288 with 1 Axes>"
      ]
     },
     "metadata": {
      "needs_background": "light"
     },
     "output_type": "display_data"
    },
    {
     "data": {
      "image/png": "[encoded data removed]",
      "text/plain": [
       "<Figure size 432x288 with 1 Axes>"
      ]
     },
     "metadata": {
      "needs_background": "light"
     },
     "output_type": "display_data"
    },
    {
     "data": {
      "image/png": "[encoded data removed]",
      "text/plain": [
       "<Figure size 432x288 with 1 Axes>"
      ]
     },
     "metadata": {
      "needs_background": "light"
     },
     "output_type": "display_data"
    }
   ],
   "source": [
    "from sklearn import metrics\n",
    "from sklearn.metrics import *\n",
    "classifier_performance(V, header, X_train_sm, X_test, y_train_sm, y_test)"
   ]
  },
  {
   "cell_type": "markdown",
   "id": "3ea5a58e",
   "metadata": {},
   "source": [
    "## Final Model Selection"
   ]
  },
  {
   "cell_type": "markdown",
   "id": "809d9d6f",
   "metadata": {},
   "source": [
    "From the comparison above we can see that the best model is `Random Forest` (with the selected *Hyperparameters*).\n",
    "\n",
    "**Note:\n",
    "The testing done on this final model would be using completely unseen data from the first split done above.**"
   ]
  },
  {
   "cell_type": "code",
   "execution_count": 50,
   "id": "309366f5",
   "metadata": {},
   "outputs": [
    {
     "name": "stdout",
     "output_type": "stream",
     "text": [
      "Accuracy: 89.80891719745223\n",
      "AUC: 72.42816091954023\n"
     ]
    },
    {
     "data": {
      "image/png": "[encoded data removed]",
      "text/plain": [
       "<Figure size 432x288 with 1 Axes>"
      ]
     },
     "metadata": {
      "needs_background": "light"
     },
     "output_type": "display_data"
    }
   ],
   "source": [
    "from sklearn.linear_model import LogisticRegression\n",
    "\n",
    "rf = RandomForestClassifier(n_estimators = y['n_estimators'], criterion = y['criterion'], max_depth = y['max_depth'], min_samples_split = y['min_samples_split'], min_samples_leaf = y['min_samples_leaf'])\n",
    "rf.fit(X_train_sm, y_train_sm)\n",
    "\n",
    "fpr, tpr, rf_acc, roc_auc = performance_values(X_test_final, y_test_final, rf)\n",
    "\n",
    "print(\"Accuracy: {}\".format(rf_acc*100))\n",
    "print(\"AUC: {}\".format(roc_auc*100))\n",
    "\n",
    "# Plot the ROC curve\n",
    "ROC_curve(fpr,tpr,roc_auc)"
   ]
  },
  {
   "cell_type": "code",
   "execution_count": 51,
   "id": "1b521c38",
   "metadata": {},
   "outputs": [
    {
     "name": "stdout",
     "output_type": "stream",
     "text": [
      "Accuracy: 97.92% (1.63%)\n"
     ]
    }
   ],
   "source": [
    "skf = StratifiedKFold(n_splits=10)\n",
    "results = cross_val_score(rf, X_train_sm, y_train_sm, cv=skf)\n",
    "print(\"Accuracy: %.2f%% (%.2f%%)\" % (results.mean()*100.0, results.std()*100.0))"
   ]
  },
  {
   "cell_type": "code",
   "execution_count": 52,
   "id": "37bf3bb8",
   "metadata": {},
   "outputs": [
    {
     "name": "stdout",
     "output_type": "stream",
     "text": [
      "95.0 confidence interval 94.6% and 99.9%\n"
     ]
    }
   ],
   "source": [
    "# confidence intervals\n",
    "alpha = 0.95\n",
    "p = ((1.0-alpha)/2.0) * 100\n",
    "lower = max(0.0, np.percentile(results, p))\n",
    "p = (alpha+((1.0-alpha)/2.0)) * 100\n",
    "upper = min(1.0, np.percentile(results, p))\n",
    "print('%.1f confidence interval %.1f%% and %.1f%%' % (alpha*100, lower*100, upper*100))"
   ]
  },
  {
   "cell_type": "markdown",
   "id": "051040ed",
   "metadata": {},
   "source": [
    "### Final notes:\n",
    "- The model did a little bit better than the first model we got using `logistic_regression`\n",
    "- As we can see even in this case using Cross Validation we over estimated the performance value coming from the `Training/Validation` data set compared to the unseen data at the final Testing."
   ]
  }
 ],
 "metadata": {
  "kernelspec": {
   "display_name": "Python 3",
   "language": "python",
   "name": "python3"
  },
  "language_info": {
   "codemirror_mode": {
    "name": "ipython",
    "version": 3
   },
   "file_extension": ".py",
   "mimetype": "text/x-python",
   "name": "python",
   "nbconvert_exporter": "python",
   "pygments_lexer": "ipython3",
   "version": "3.8.8"
  }
 },
 "nbformat": 4,
 "nbformat_minor": 5
}
